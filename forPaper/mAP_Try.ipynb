{
  "cells": [
    {
      "metadata": {
        "_uuid": "8f2839f25d086af736a60e9eeb907d3b93b6e0e5",
        "_cell_guid": "b1076dfc-b9ad-4769-8c92-a6c4dae69d19",
        "trusted": true
      },
      "cell_type": "code",
      "source": "import numpy as np\nimport pandas as pd",
      "execution_count": 317,
      "outputs": []
    },
    {
      "metadata": {
        "_cell_guid": "79c7e3d0-c299-4dcb-8224-4455121ee9b0",
        "_uuid": "d629ff2d2480ee46fbb7e2d37f6b5fab8052498a",
        "trusted": true
      },
      "cell_type": "code",
      "source": "oof_preds0 = pd.read_csv('../input/filter-199-final-with-higher-thresh-stage-2/filter199.csv')\noof_preds1 = pd.read_csv('../input/filter-199-final-with-higher-thresh-stage-2/filter199.csv')\noof_preds2 = pd.read_csv('../input/filter-199-final-with-higher-thresh-stage-2/filter199.csv')",
      "execution_count": 318,
      "outputs": []
    },
    {
      "metadata": {
        "trusted": true,
        "_uuid": "f1e06ea343342a88089eb7177ba9b6dc948477b8",
        "scrolled": true
      },
      "cell_type": "code",
      "source": "oof_preds0.head(100)",
      "execution_count": 319,
      "outputs": [
        {
          "output_type": "execute_result",
          "execution_count": 319,
          "data": {
            "text/plain": "                               patientId                            PredictionString\n0   c103f115-266b-4f0c-97d0-082dc2438a27  0.97 612 372 268 416 0.97 240 568 188 184 \n1   2ba3df76-d959-414f-b466-4bc0b4f41135                                         NaN\n2   1114eeb8-c035-42f4-a038-13a806a568ad                                         NaN\n3   2276b258-5b47-4c7d-ab1f-5b2bae4a8fc4                                         NaN\n4   23ffe96d-ef6c-4a8f-914e-12754fe689c4                                         NaN\n5   26aff776-ff9d-40f2-b899-6b88f1355506                                         NaN\n6   22bba58c-7d19-48f5-b71f-a743039f21de                                         NaN\n7   2b001299-52d5-4af2-a49e-32adb7df1837                                         NaN\n8   03b16b8f-a03c-409c-8740-7e694b7d58e5                                         NaN\n9   11c549a7-3e8e-47fb-8fc4-0e9fa7ced0d0                                         NaN\n10  0340ffe8-feef-4b08-a1fa-328bb093361c                                         NaN\n11  02ae356b-c39e-474f-908f-0af600e6b03d  0.98 208 164 208 352 0.96 568 392 184 244 \n12  2f9ffa0e-5c1d-4d36-beb8-8e6d0b6a817a                                         NaN\n13  2bdb8628-8fea-4b99-a12f-c09f1afea857                                         NaN\n14  02eff1f9-5830-4e4f-a68e-822ac02047f7                       0.96 180 392 232 176 \n15  1bbd9bf6-9238-4399-9280-b8ce09fb40dc                        0.95 324 84 208 412 \n16  231c9104-2a52-4299-a457-46220d7721d5                                         NaN\n17  1448e8b5-3a0b-49db-8ca5-28470a6a6c99                                         NaN\n18  1b8d026f-3989-4cd6-a4c7-4ed8fb8887d0  0.98 612 368 232 184 0.96 212 408 208 136 \n19  057e7feb-bc0f-4a17-bde0-3b9c20727e0e                       0.98 164 440 220 156 \n20  19a439ff-6521-4bea-9179-dccef727f918                                         NaN\n21  130a294d-b0ce-4602-a863-60720c12aa00                                         NaN\n22  24579c4e-f0a8-4a69-b3b2-17867dc928d9                                         NaN\n23  1a5eef1c-c817-4c73-9e8b-d75eae0e4c0a  0.98 176 508 216 304 0.97 624 308 284 528 \n24  2b0bfba4-ae3c-41a8-9e21-c3053b896445                                         NaN\n25  140ebc5d-5a15-4948-b698-0a4b32d12a93                                         NaN\n26  0f60de84-91e3-42f8-84ca-587f07437f48                                         NaN\n27  1f1505eb-31b8-49ad-a6ef-aa0e94eba496                       0.98 232 428 204 276 \n28  0d000250-5968-40f7-bcab-8b6cffd8ccb3                                         NaN\n29  c0996b19-8cdf-49b9-9865-d906fac2a434  0.99 620 416 184 288 0.98 252 516 184 140 \n..                                   ...                                         ...\n70  21e42e94-8d99-43d6-8e06-e795cd00f69d                                         NaN\n71  1b00dd0c-96b1-4222-a67f-c2436cb0fd69                                         NaN\n72  241ba006-6d87-49bc-a6b2-768a0669450d                       0.98 608 384 256 288 \n73  1d809ab6-f7f5-495b-a583-c4b71080c9ea                                         NaN\n74  c141f676-7ac5-4231-bdb2-aea92772eb7f                       0.99 192 340 216 224 \n75  1b3a8b8f-927e-43c2-a0c2-b3f2a996a636  0.98 524 152 320 408 0.97 104 332 260 276 \n76  1e62c8e9-ce2f-4958-b8a0-f426e09c1381                                         NaN\n77  1e177807-321a-42aa-bfae-94028485c30d                       0.97 232 388 244 452 \n78  2b7d087c-a5ec-4f67-a37e-847c22663557                                         NaN\n79  1b5d4e8a-f205-473b-80b5-abe2ad83d715                                         NaN\n80  23dc53f1-52ba-4411-87c9-d05b3ee35a0d                       0.96 252 540 164 320 \n81  1e0df780-c746-4ee6-9e4e-abafc5fc5627                                         NaN\n82  151ab287-f641-4c96-b7e6-628bccf84c15  0.97 308 500 244 188 0.96 712 432 256 380 \n83  30446bad-6b8c-4067-a008-6730efa1da5b                                         NaN\n84  c1bea7c6-14cb-483c-b2ee-e958901f0667  0.98 524 452 244 352 0.98 132 348 244 440 \n85  c10f2a35-afdd-4b1a-ade3-40500fa39fef                                         NaN\n86  26e868a8-8364-4d43-8c22-736de9e5863b                                         NaN\n87  2853a995-743e-43d8-9ea4-068ffc6bf420                                         NaN\n88  203b1b72-8b45-469a-b023-3a460f360a34                                         NaN\n89  2170ee5b-c39b-4bfb-873f-92eafa183b4d                                         NaN\n90  2363330b-a7d8-4f19-bbfa-f09b15dfef0a                       0.97 208 332 216 248 \n91  018cb7c3-0ec3-484d-a6a3-bd7c376605d1                       0.96 376 340 224 440 \n92  20f7fda5-8ccf-42c8-b87e-89b78e35366e                                         NaN\n93  0f29db26-5ee0-4f6b-a03e-0da08fdb0a3e  0.98 532 492 164 176 0.97 192 328 196 388 \n94  2d5836dd-1753-4f27-8c73-e6b5a459bbd0                                         NaN\n95  2a670192-9427-46c5-843a-943dedf6ac83  0.99 212 276 236 320 0.97 524 192 292 432 \n96  134db8e4-e78a-41a8-8d62-ba2414e3d63b                       0.96 544 524 188 132 \n97  137230a8-93d3-4779-9223-604bdc13c093                       0.99 180 336 192 232 \n98  2ab7d4ea-97dd-4bb4-a803-6d39ea8d6be2                       0.96 288 476 180 236 \n99  2170fcb3-ac43-4128-a256-dc58c3f7381b                                         NaN\n\n[100 rows x 2 columns]",
            "text/html": "<div>\n<style scoped>\n    .dataframe tbody tr th:only-of-type {\n        vertical-align: middle;\n    }\n\n    .dataframe tbody tr th {\n        vertical-align: top;\n    }\n\n    .dataframe thead th {\n        text-align: right;\n    }\n</style>\n<table border=\"1\" class=\"dataframe\">\n  <thead>\n    <tr style=\"text-align: right;\">\n      <th></th>\n      <th>patientId</th>\n      <th>PredictionString</th>\n    </tr>\n  </thead>\n  <tbody>\n    <tr>\n      <th>0</th>\n      <td>c103f115-266b-4f0c-97d0-082dc2438a27</td>\n      <td>0.97 612 372 268 416 0.97 240 568 188 184</td>\n    </tr>\n    <tr>\n      <th>1</th>\n      <td>2ba3df76-d959-414f-b466-4bc0b4f41135</td>\n      <td>NaN</td>\n    </tr>\n    <tr>\n      <th>2</th>\n      <td>1114eeb8-c035-42f4-a038-13a806a568ad</td>\n      <td>NaN</td>\n    </tr>\n    <tr>\n      <th>3</th>\n      <td>2276b258-5b47-4c7d-ab1f-5b2bae4a8fc4</td>\n      <td>NaN</td>\n    </tr>\n    <tr>\n      <th>4</th>\n      <td>23ffe96d-ef6c-4a8f-914e-12754fe689c4</td>\n      <td>NaN</td>\n    </tr>\n    <tr>\n      <th>5</th>\n      <td>26aff776-ff9d-40f2-b899-6b88f1355506</td>\n      <td>NaN</td>\n    </tr>\n    <tr>\n      <th>6</th>\n      <td>22bba58c-7d19-48f5-b71f-a743039f21de</td>\n      <td>NaN</td>\n    </tr>\n    <tr>\n      <th>7</th>\n      <td>2b001299-52d5-4af2-a49e-32adb7df1837</td>\n      <td>NaN</td>\n    </tr>\n    <tr>\n      <th>8</th>\n      <td>03b16b8f-a03c-409c-8740-7e694b7d58e5</td>\n      <td>NaN</td>\n    </tr>\n    <tr>\n      <th>9</th>\n      <td>11c549a7-3e8e-47fb-8fc4-0e9fa7ced0d0</td>\n      <td>NaN</td>\n    </tr>\n    <tr>\n      <th>10</th>\n      <td>0340ffe8-feef-4b08-a1fa-328bb093361c</td>\n      <td>NaN</td>\n    </tr>\n    <tr>\n      <th>11</th>\n      <td>02ae356b-c39e-474f-908f-0af600e6b03d</td>\n      <td>0.98 208 164 208 352 0.96 568 392 184 244</td>\n    </tr>\n    <tr>\n      <th>12</th>\n      <td>2f9ffa0e-5c1d-4d36-beb8-8e6d0b6a817a</td>\n      <td>NaN</td>\n    </tr>\n    <tr>\n      <th>13</th>\n      <td>2bdb8628-8fea-4b99-a12f-c09f1afea857</td>\n      <td>NaN</td>\n    </tr>\n    <tr>\n      <th>14</th>\n      <td>02eff1f9-5830-4e4f-a68e-822ac02047f7</td>\n      <td>0.96 180 392 232 176</td>\n    </tr>\n    <tr>\n      <th>15</th>\n      <td>1bbd9bf6-9238-4399-9280-b8ce09fb40dc</td>\n      <td>0.95 324 84 208 412</td>\n    </tr>\n    <tr>\n      <th>16</th>\n      <td>231c9104-2a52-4299-a457-46220d7721d5</td>\n      <td>NaN</td>\n    </tr>\n    <tr>\n      <th>17</th>\n      <td>1448e8b5-3a0b-49db-8ca5-28470a6a6c99</td>\n      <td>NaN</td>\n    </tr>\n    <tr>\n      <th>18</th>\n      <td>1b8d026f-3989-4cd6-a4c7-4ed8fb8887d0</td>\n      <td>0.98 612 368 232 184 0.96 212 408 208 136</td>\n    </tr>\n    <tr>\n      <th>19</th>\n      <td>057e7feb-bc0f-4a17-bde0-3b9c20727e0e</td>\n      <td>0.98 164 440 220 156</td>\n    </tr>\n    <tr>\n      <th>20</th>\n      <td>19a439ff-6521-4bea-9179-dccef727f918</td>\n      <td>NaN</td>\n    </tr>\n    <tr>\n      <th>21</th>\n      <td>130a294d-b0ce-4602-a863-60720c12aa00</td>\n      <td>NaN</td>\n    </tr>\n    <tr>\n      <th>22</th>\n      <td>24579c4e-f0a8-4a69-b3b2-17867dc928d9</td>\n      <td>NaN</td>\n    </tr>\n    <tr>\n      <th>23</th>\n      <td>1a5eef1c-c817-4c73-9e8b-d75eae0e4c0a</td>\n      <td>0.98 176 508 216 304 0.97 624 308 284 528</td>\n    </tr>\n    <tr>\n      <th>24</th>\n      <td>2b0bfba4-ae3c-41a8-9e21-c3053b896445</td>\n      <td>NaN</td>\n    </tr>\n    <tr>\n      <th>25</th>\n      <td>140ebc5d-5a15-4948-b698-0a4b32d12a93</td>\n      <td>NaN</td>\n    </tr>\n    <tr>\n      <th>26</th>\n      <td>0f60de84-91e3-42f8-84ca-587f07437f48</td>\n      <td>NaN</td>\n    </tr>\n    <tr>\n      <th>27</th>\n      <td>1f1505eb-31b8-49ad-a6ef-aa0e94eba496</td>\n      <td>0.98 232 428 204 276</td>\n    </tr>\n    <tr>\n      <th>28</th>\n      <td>0d000250-5968-40f7-bcab-8b6cffd8ccb3</td>\n      <td>NaN</td>\n    </tr>\n    <tr>\n      <th>29</th>\n      <td>c0996b19-8cdf-49b9-9865-d906fac2a434</td>\n      <td>0.99 620 416 184 288 0.98 252 516 184 140</td>\n    </tr>\n    <tr>\n      <th>...</th>\n      <td>...</td>\n      <td>...</td>\n    </tr>\n    <tr>\n      <th>70</th>\n      <td>21e42e94-8d99-43d6-8e06-e795cd00f69d</td>\n      <td>NaN</td>\n    </tr>\n    <tr>\n      <th>71</th>\n      <td>1b00dd0c-96b1-4222-a67f-c2436cb0fd69</td>\n      <td>NaN</td>\n    </tr>\n    <tr>\n      <th>72</th>\n      <td>241ba006-6d87-49bc-a6b2-768a0669450d</td>\n      <td>0.98 608 384 256 288</td>\n    </tr>\n    <tr>\n      <th>73</th>\n      <td>1d809ab6-f7f5-495b-a583-c4b71080c9ea</td>\n      <td>NaN</td>\n    </tr>\n    <tr>\n      <th>74</th>\n      <td>c141f676-7ac5-4231-bdb2-aea92772eb7f</td>\n      <td>0.99 192 340 216 224</td>\n    </tr>\n    <tr>\n      <th>75</th>\n      <td>1b3a8b8f-927e-43c2-a0c2-b3f2a996a636</td>\n      <td>0.98 524 152 320 408 0.97 104 332 260 276</td>\n    </tr>\n    <tr>\n      <th>76</th>\n      <td>1e62c8e9-ce2f-4958-b8a0-f426e09c1381</td>\n      <td>NaN</td>\n    </tr>\n    <tr>\n      <th>77</th>\n      <td>1e177807-321a-42aa-bfae-94028485c30d</td>\n      <td>0.97 232 388 244 452</td>\n    </tr>\n    <tr>\n      <th>78</th>\n      <td>2b7d087c-a5ec-4f67-a37e-847c22663557</td>\n      <td>NaN</td>\n    </tr>\n    <tr>\n      <th>79</th>\n      <td>1b5d4e8a-f205-473b-80b5-abe2ad83d715</td>\n      <td>NaN</td>\n    </tr>\n    <tr>\n      <th>80</th>\n      <td>23dc53f1-52ba-4411-87c9-d05b3ee35a0d</td>\n      <td>0.96 252 540 164 320</td>\n    </tr>\n    <tr>\n      <th>81</th>\n      <td>1e0df780-c746-4ee6-9e4e-abafc5fc5627</td>\n      <td>NaN</td>\n    </tr>\n    <tr>\n      <th>82</th>\n      <td>151ab287-f641-4c96-b7e6-628bccf84c15</td>\n      <td>0.97 308 500 244 188 0.96 712 432 256 380</td>\n    </tr>\n    <tr>\n      <th>83</th>\n      <td>30446bad-6b8c-4067-a008-6730efa1da5b</td>\n      <td>NaN</td>\n    </tr>\n    <tr>\n      <th>84</th>\n      <td>c1bea7c6-14cb-483c-b2ee-e958901f0667</td>\n      <td>0.98 524 452 244 352 0.98 132 348 244 440</td>\n    </tr>\n    <tr>\n      <th>85</th>\n      <td>c10f2a35-afdd-4b1a-ade3-40500fa39fef</td>\n      <td>NaN</td>\n    </tr>\n    <tr>\n      <th>86</th>\n      <td>26e868a8-8364-4d43-8c22-736de9e5863b</td>\n      <td>NaN</td>\n    </tr>\n    <tr>\n      <th>87</th>\n      <td>2853a995-743e-43d8-9ea4-068ffc6bf420</td>\n      <td>NaN</td>\n    </tr>\n    <tr>\n      <th>88</th>\n      <td>203b1b72-8b45-469a-b023-3a460f360a34</td>\n      <td>NaN</td>\n    </tr>\n    <tr>\n      <th>89</th>\n      <td>2170ee5b-c39b-4bfb-873f-92eafa183b4d</td>\n      <td>NaN</td>\n    </tr>\n    <tr>\n      <th>90</th>\n      <td>2363330b-a7d8-4f19-bbfa-f09b15dfef0a</td>\n      <td>0.97 208 332 216 248</td>\n    </tr>\n    <tr>\n      <th>91</th>\n      <td>018cb7c3-0ec3-484d-a6a3-bd7c376605d1</td>\n      <td>0.96 376 340 224 440</td>\n    </tr>\n    <tr>\n      <th>92</th>\n      <td>20f7fda5-8ccf-42c8-b87e-89b78e35366e</td>\n      <td>NaN</td>\n    </tr>\n    <tr>\n      <th>93</th>\n      <td>0f29db26-5ee0-4f6b-a03e-0da08fdb0a3e</td>\n      <td>0.98 532 492 164 176 0.97 192 328 196 388</td>\n    </tr>\n    <tr>\n      <th>94</th>\n      <td>2d5836dd-1753-4f27-8c73-e6b5a459bbd0</td>\n      <td>NaN</td>\n    </tr>\n    <tr>\n      <th>95</th>\n      <td>2a670192-9427-46c5-843a-943dedf6ac83</td>\n      <td>0.99 212 276 236 320 0.97 524 192 292 432</td>\n    </tr>\n    <tr>\n      <th>96</th>\n      <td>134db8e4-e78a-41a8-8d62-ba2414e3d63b</td>\n      <td>0.96 544 524 188 132</td>\n    </tr>\n    <tr>\n      <th>97</th>\n      <td>137230a8-93d3-4779-9223-604bdc13c093</td>\n      <td>0.99 180 336 192 232</td>\n    </tr>\n    <tr>\n      <th>98</th>\n      <td>2ab7d4ea-97dd-4bb4-a803-6d39ea8d6be2</td>\n      <td>0.96 288 476 180 236</td>\n    </tr>\n    <tr>\n      <th>99</th>\n      <td>2170fcb3-ac43-4128-a256-dc58c3f7381b</td>\n      <td>NaN</td>\n    </tr>\n  </tbody>\n</table>\n<p>100 rows × 2 columns</p>\n</div>"
          },
          "metadata": {}
        }
      ]
    },
    {
      "metadata": {
        "trusted": true,
        "_uuid": "1e9178474163f5d045b0ff297d46141577292652"
      },
      "cell_type": "code",
      "source": "df = pd.read_csv('../input/rsna-pneumonia-detection-challenge/stage_2_train_labels.csv')",
      "execution_count": 320,
      "outputs": []
    },
    {
      "metadata": {
        "trusted": true,
        "scrolled": true,
        "_uuid": "0c27520b0d89f40944a64a9fcf3150e57bae9015"
      },
      "cell_type": "code",
      "source": "df.head(20)",
      "execution_count": 321,
      "outputs": [
        {
          "output_type": "execute_result",
          "execution_count": 321,
          "data": {
            "text/plain": "                               patientId      x   ...    height  Target\n0   0004cfab-14fd-4e49-80ba-63a80b6bddd6    NaN   ...       NaN       0\n1   00313ee0-9eaa-42f4-b0ab-c148ed3241cd    NaN   ...       NaN       0\n2   00322d4d-1c29-4943-afc9-b6754be640eb    NaN   ...       NaN       0\n3   003d8fa0-6bf1-40ed-b54c-ac657f8495c5    NaN   ...       NaN       0\n4   00436515-870c-4b36-a041-de91049b9ab4  264.0   ...     379.0       1\n5   00436515-870c-4b36-a041-de91049b9ab4  562.0   ...     453.0       1\n6   00569f44-917d-4c86-a842-81832af98c30    NaN   ...       NaN       0\n7   006cec2e-6ce2-4549-bffa-eadfcd1e9970    NaN   ...       NaN       0\n8   00704310-78a8-4b38-8475-49f4573b2dbb  323.0   ...     104.0       1\n9   00704310-78a8-4b38-8475-49f4573b2dbb  695.0   ...     137.0       1\n10  008c19e8-a820-403a-930a-bc74a4053664    NaN   ...       NaN       0\n11  009482dc-3db5-48d4-8580-5c89c4f01334    NaN   ...       NaN       0\n12  009eb222-eabc-4150-8121-d5a6d06b8ebf    NaN   ...       NaN       0\n13  00a85be6-6eb0-421d-8acf-ff2dc0007e8a    NaN   ...       NaN       0\n14  00aecb01-a116-45a2-956c-08d2fa55433f  288.0   ...     135.0       1\n15  00aecb01-a116-45a2-956c-08d2fa55433f  547.0   ...     165.0       1\n16  00c0b293-48e7-4e16-ac76-9269ba535a62  306.0   ...     244.0       1\n17  00c0b293-48e7-4e16-ac76-9269ba535a62  650.0   ...     284.0       1\n18  00d7c36e-3cdf-4df6-ac03-6c30cdc8e85b    NaN   ...       NaN       0\n19  00f08de1-517e-4652-a04f-d1dc9ee48593  181.0   ...     506.0       1\n\n[20 rows x 6 columns]",
            "text/html": "<div>\n<style scoped>\n    .dataframe tbody tr th:only-of-type {\n        vertical-align: middle;\n    }\n\n    .dataframe tbody tr th {\n        vertical-align: top;\n    }\n\n    .dataframe thead th {\n        text-align: right;\n    }\n</style>\n<table border=\"1\" class=\"dataframe\">\n  <thead>\n    <tr style=\"text-align: right;\">\n      <th></th>\n      <th>patientId</th>\n      <th>x</th>\n      <th>y</th>\n      <th>width</th>\n      <th>height</th>\n      <th>Target</th>\n    </tr>\n  </thead>\n  <tbody>\n    <tr>\n      <th>0</th>\n      <td>0004cfab-14fd-4e49-80ba-63a80b6bddd6</td>\n      <td>NaN</td>\n      <td>NaN</td>\n      <td>NaN</td>\n      <td>NaN</td>\n      <td>0</td>\n    </tr>\n    <tr>\n      <th>1</th>\n      <td>00313ee0-9eaa-42f4-b0ab-c148ed3241cd</td>\n      <td>NaN</td>\n      <td>NaN</td>\n      <td>NaN</td>\n      <td>NaN</td>\n      <td>0</td>\n    </tr>\n    <tr>\n      <th>2</th>\n      <td>00322d4d-1c29-4943-afc9-b6754be640eb</td>\n      <td>NaN</td>\n      <td>NaN</td>\n      <td>NaN</td>\n      <td>NaN</td>\n      <td>0</td>\n    </tr>\n    <tr>\n      <th>3</th>\n      <td>003d8fa0-6bf1-40ed-b54c-ac657f8495c5</td>\n      <td>NaN</td>\n      <td>NaN</td>\n      <td>NaN</td>\n      <td>NaN</td>\n      <td>0</td>\n    </tr>\n    <tr>\n      <th>4</th>\n      <td>00436515-870c-4b36-a041-de91049b9ab4</td>\n      <td>264.0</td>\n      <td>152.0</td>\n      <td>213.0</td>\n      <td>379.0</td>\n      <td>1</td>\n    </tr>\n    <tr>\n      <th>5</th>\n      <td>00436515-870c-4b36-a041-de91049b9ab4</td>\n      <td>562.0</td>\n      <td>152.0</td>\n      <td>256.0</td>\n      <td>453.0</td>\n      <td>1</td>\n    </tr>\n    <tr>\n      <th>6</th>\n      <td>00569f44-917d-4c86-a842-81832af98c30</td>\n      <td>NaN</td>\n      <td>NaN</td>\n      <td>NaN</td>\n      <td>NaN</td>\n      <td>0</td>\n    </tr>\n    <tr>\n      <th>7</th>\n      <td>006cec2e-6ce2-4549-bffa-eadfcd1e9970</td>\n      <td>NaN</td>\n      <td>NaN</td>\n      <td>NaN</td>\n      <td>NaN</td>\n      <td>0</td>\n    </tr>\n    <tr>\n      <th>8</th>\n      <td>00704310-78a8-4b38-8475-49f4573b2dbb</td>\n      <td>323.0</td>\n      <td>577.0</td>\n      <td>160.0</td>\n      <td>104.0</td>\n      <td>1</td>\n    </tr>\n    <tr>\n      <th>9</th>\n      <td>00704310-78a8-4b38-8475-49f4573b2dbb</td>\n      <td>695.0</td>\n      <td>575.0</td>\n      <td>162.0</td>\n      <td>137.0</td>\n      <td>1</td>\n    </tr>\n    <tr>\n      <th>10</th>\n      <td>008c19e8-a820-403a-930a-bc74a4053664</td>\n      <td>NaN</td>\n      <td>NaN</td>\n      <td>NaN</td>\n      <td>NaN</td>\n      <td>0</td>\n    </tr>\n    <tr>\n      <th>11</th>\n      <td>009482dc-3db5-48d4-8580-5c89c4f01334</td>\n      <td>NaN</td>\n      <td>NaN</td>\n      <td>NaN</td>\n      <td>NaN</td>\n      <td>0</td>\n    </tr>\n    <tr>\n      <th>12</th>\n      <td>009eb222-eabc-4150-8121-d5a6d06b8ebf</td>\n      <td>NaN</td>\n      <td>NaN</td>\n      <td>NaN</td>\n      <td>NaN</td>\n      <td>0</td>\n    </tr>\n    <tr>\n      <th>13</th>\n      <td>00a85be6-6eb0-421d-8acf-ff2dc0007e8a</td>\n      <td>NaN</td>\n      <td>NaN</td>\n      <td>NaN</td>\n      <td>NaN</td>\n      <td>0</td>\n    </tr>\n    <tr>\n      <th>14</th>\n      <td>00aecb01-a116-45a2-956c-08d2fa55433f</td>\n      <td>288.0</td>\n      <td>322.0</td>\n      <td>94.0</td>\n      <td>135.0</td>\n      <td>1</td>\n    </tr>\n    <tr>\n      <th>15</th>\n      <td>00aecb01-a116-45a2-956c-08d2fa55433f</td>\n      <td>547.0</td>\n      <td>299.0</td>\n      <td>119.0</td>\n      <td>165.0</td>\n      <td>1</td>\n    </tr>\n    <tr>\n      <th>16</th>\n      <td>00c0b293-48e7-4e16-ac76-9269ba535a62</td>\n      <td>306.0</td>\n      <td>544.0</td>\n      <td>168.0</td>\n      <td>244.0</td>\n      <td>1</td>\n    </tr>\n    <tr>\n      <th>17</th>\n      <td>00c0b293-48e7-4e16-ac76-9269ba535a62</td>\n      <td>650.0</td>\n      <td>511.0</td>\n      <td>206.0</td>\n      <td>284.0</td>\n      <td>1</td>\n    </tr>\n    <tr>\n      <th>18</th>\n      <td>00d7c36e-3cdf-4df6-ac03-6c30cdc8e85b</td>\n      <td>NaN</td>\n      <td>NaN</td>\n      <td>NaN</td>\n      <td>NaN</td>\n      <td>0</td>\n    </tr>\n    <tr>\n      <th>19</th>\n      <td>00f08de1-517e-4652-a04f-d1dc9ee48593</td>\n      <td>181.0</td>\n      <td>184.0</td>\n      <td>206.0</td>\n      <td>506.0</td>\n      <td>1</td>\n    </tr>\n  </tbody>\n</table>\n</div>"
          },
          "metadata": {}
        }
      ]
    },
    {
      "metadata": {
        "trusted": true,
        "_uuid": "e886d1f1fc76eafc7fa00c1d350ff213412bcf4d"
      },
      "cell_type": "code",
      "source": "df['bbox_target'] = (df['x'].astype(str) +\n                    ' ' + \n                    df['y'].astype(str) +\n                    ' ' +\n                    df['width'].astype(str) +\n                    ' ' +\n                    df['height'].astype(str))",
      "execution_count": 322,
      "outputs": []
    },
    {
      "metadata": {
        "trusted": true,
        "_uuid": "5e6290f07dedfc2790bee6622a592efc381a56b7"
      },
      "cell_type": "code",
      "source": "df.loc[:, 'bbox_target'] = df.loc[:, 'bbox_target'].map(lambda x: x.split(' '))",
      "execution_count": 323,
      "outputs": []
    },
    {
      "metadata": {
        "trusted": true,
        "_uuid": "72900e499a0efc304837eb76549fa0a7321a83c5",
        "scrolled": false
      },
      "cell_type": "code",
      "source": "df.head(20)",
      "execution_count": 324,
      "outputs": [
        {
          "output_type": "execute_result",
          "execution_count": 324,
          "data": {
            "text/plain": "                               patientId              ...                                bbox_target\n0   0004cfab-14fd-4e49-80ba-63a80b6bddd6              ...                       [nan, nan, nan, nan]\n1   00313ee0-9eaa-42f4-b0ab-c148ed3241cd              ...                       [nan, nan, nan, nan]\n2   00322d4d-1c29-4943-afc9-b6754be640eb              ...                       [nan, nan, nan, nan]\n3   003d8fa0-6bf1-40ed-b54c-ac657f8495c5              ...                       [nan, nan, nan, nan]\n4   00436515-870c-4b36-a041-de91049b9ab4              ...               [264.0, 152.0, 213.0, 379.0]\n5   00436515-870c-4b36-a041-de91049b9ab4              ...               [562.0, 152.0, 256.0, 453.0]\n6   00569f44-917d-4c86-a842-81832af98c30              ...                       [nan, nan, nan, nan]\n7   006cec2e-6ce2-4549-bffa-eadfcd1e9970              ...                       [nan, nan, nan, nan]\n8   00704310-78a8-4b38-8475-49f4573b2dbb              ...               [323.0, 577.0, 160.0, 104.0]\n9   00704310-78a8-4b38-8475-49f4573b2dbb              ...               [695.0, 575.0, 162.0, 137.0]\n10  008c19e8-a820-403a-930a-bc74a4053664              ...                       [nan, nan, nan, nan]\n11  009482dc-3db5-48d4-8580-5c89c4f01334              ...                       [nan, nan, nan, nan]\n12  009eb222-eabc-4150-8121-d5a6d06b8ebf              ...                       [nan, nan, nan, nan]\n13  00a85be6-6eb0-421d-8acf-ff2dc0007e8a              ...                       [nan, nan, nan, nan]\n14  00aecb01-a116-45a2-956c-08d2fa55433f              ...                [288.0, 322.0, 94.0, 135.0]\n15  00aecb01-a116-45a2-956c-08d2fa55433f              ...               [547.0, 299.0, 119.0, 165.0]\n16  00c0b293-48e7-4e16-ac76-9269ba535a62              ...               [306.0, 544.0, 168.0, 244.0]\n17  00c0b293-48e7-4e16-ac76-9269ba535a62              ...               [650.0, 511.0, 206.0, 284.0]\n18  00d7c36e-3cdf-4df6-ac03-6c30cdc8e85b              ...                       [nan, nan, nan, nan]\n19  00f08de1-517e-4652-a04f-d1dc9ee48593              ...               [181.0, 184.0, 206.0, 506.0]\n\n[20 rows x 7 columns]",
            "text/html": "<div>\n<style scoped>\n    .dataframe tbody tr th:only-of-type {\n        vertical-align: middle;\n    }\n\n    .dataframe tbody tr th {\n        vertical-align: top;\n    }\n\n    .dataframe thead th {\n        text-align: right;\n    }\n</style>\n<table border=\"1\" class=\"dataframe\">\n  <thead>\n    <tr style=\"text-align: right;\">\n      <th></th>\n      <th>patientId</th>\n      <th>x</th>\n      <th>y</th>\n      <th>width</th>\n      <th>height</th>\n      <th>Target</th>\n      <th>bbox_target</th>\n    </tr>\n  </thead>\n  <tbody>\n    <tr>\n      <th>0</th>\n      <td>0004cfab-14fd-4e49-80ba-63a80b6bddd6</td>\n      <td>NaN</td>\n      <td>NaN</td>\n      <td>NaN</td>\n      <td>NaN</td>\n      <td>0</td>\n      <td>[nan, nan, nan, nan]</td>\n    </tr>\n    <tr>\n      <th>1</th>\n      <td>00313ee0-9eaa-42f4-b0ab-c148ed3241cd</td>\n      <td>NaN</td>\n      <td>NaN</td>\n      <td>NaN</td>\n      <td>NaN</td>\n      <td>0</td>\n      <td>[nan, nan, nan, nan]</td>\n    </tr>\n    <tr>\n      <th>2</th>\n      <td>00322d4d-1c29-4943-afc9-b6754be640eb</td>\n      <td>NaN</td>\n      <td>NaN</td>\n      <td>NaN</td>\n      <td>NaN</td>\n      <td>0</td>\n      <td>[nan, nan, nan, nan]</td>\n    </tr>\n    <tr>\n      <th>3</th>\n      <td>003d8fa0-6bf1-40ed-b54c-ac657f8495c5</td>\n      <td>NaN</td>\n      <td>NaN</td>\n      <td>NaN</td>\n      <td>NaN</td>\n      <td>0</td>\n      <td>[nan, nan, nan, nan]</td>\n    </tr>\n    <tr>\n      <th>4</th>\n      <td>00436515-870c-4b36-a041-de91049b9ab4</td>\n      <td>264.0</td>\n      <td>152.0</td>\n      <td>213.0</td>\n      <td>379.0</td>\n      <td>1</td>\n      <td>[264.0, 152.0, 213.0, 379.0]</td>\n    </tr>\n    <tr>\n      <th>5</th>\n      <td>00436515-870c-4b36-a041-de91049b9ab4</td>\n      <td>562.0</td>\n      <td>152.0</td>\n      <td>256.0</td>\n      <td>453.0</td>\n      <td>1</td>\n      <td>[562.0, 152.0, 256.0, 453.0]</td>\n    </tr>\n    <tr>\n      <th>6</th>\n      <td>00569f44-917d-4c86-a842-81832af98c30</td>\n      <td>NaN</td>\n      <td>NaN</td>\n      <td>NaN</td>\n      <td>NaN</td>\n      <td>0</td>\n      <td>[nan, nan, nan, nan]</td>\n    </tr>\n    <tr>\n      <th>7</th>\n      <td>006cec2e-6ce2-4549-bffa-eadfcd1e9970</td>\n      <td>NaN</td>\n      <td>NaN</td>\n      <td>NaN</td>\n      <td>NaN</td>\n      <td>0</td>\n      <td>[nan, nan, nan, nan]</td>\n    </tr>\n    <tr>\n      <th>8</th>\n      <td>00704310-78a8-4b38-8475-49f4573b2dbb</td>\n      <td>323.0</td>\n      <td>577.0</td>\n      <td>160.0</td>\n      <td>104.0</td>\n      <td>1</td>\n      <td>[323.0, 577.0, 160.0, 104.0]</td>\n    </tr>\n    <tr>\n      <th>9</th>\n      <td>00704310-78a8-4b38-8475-49f4573b2dbb</td>\n      <td>695.0</td>\n      <td>575.0</td>\n      <td>162.0</td>\n      <td>137.0</td>\n      <td>1</td>\n      <td>[695.0, 575.0, 162.0, 137.0]</td>\n    </tr>\n    <tr>\n      <th>10</th>\n      <td>008c19e8-a820-403a-930a-bc74a4053664</td>\n      <td>NaN</td>\n      <td>NaN</td>\n      <td>NaN</td>\n      <td>NaN</td>\n      <td>0</td>\n      <td>[nan, nan, nan, nan]</td>\n    </tr>\n    <tr>\n      <th>11</th>\n      <td>009482dc-3db5-48d4-8580-5c89c4f01334</td>\n      <td>NaN</td>\n      <td>NaN</td>\n      <td>NaN</td>\n      <td>NaN</td>\n      <td>0</td>\n      <td>[nan, nan, nan, nan]</td>\n    </tr>\n    <tr>\n      <th>12</th>\n      <td>009eb222-eabc-4150-8121-d5a6d06b8ebf</td>\n      <td>NaN</td>\n      <td>NaN</td>\n      <td>NaN</td>\n      <td>NaN</td>\n      <td>0</td>\n      <td>[nan, nan, nan, nan]</td>\n    </tr>\n    <tr>\n      <th>13</th>\n      <td>00a85be6-6eb0-421d-8acf-ff2dc0007e8a</td>\n      <td>NaN</td>\n      <td>NaN</td>\n      <td>NaN</td>\n      <td>NaN</td>\n      <td>0</td>\n      <td>[nan, nan, nan, nan]</td>\n    </tr>\n    <tr>\n      <th>14</th>\n      <td>00aecb01-a116-45a2-956c-08d2fa55433f</td>\n      <td>288.0</td>\n      <td>322.0</td>\n      <td>94.0</td>\n      <td>135.0</td>\n      <td>1</td>\n      <td>[288.0, 322.0, 94.0, 135.0]</td>\n    </tr>\n    <tr>\n      <th>15</th>\n      <td>00aecb01-a116-45a2-956c-08d2fa55433f</td>\n      <td>547.0</td>\n      <td>299.0</td>\n      <td>119.0</td>\n      <td>165.0</td>\n      <td>1</td>\n      <td>[547.0, 299.0, 119.0, 165.0]</td>\n    </tr>\n    <tr>\n      <th>16</th>\n      <td>00c0b293-48e7-4e16-ac76-9269ba535a62</td>\n      <td>306.0</td>\n      <td>544.0</td>\n      <td>168.0</td>\n      <td>244.0</td>\n      <td>1</td>\n      <td>[306.0, 544.0, 168.0, 244.0]</td>\n    </tr>\n    <tr>\n      <th>17</th>\n      <td>00c0b293-48e7-4e16-ac76-9269ba535a62</td>\n      <td>650.0</td>\n      <td>511.0</td>\n      <td>206.0</td>\n      <td>284.0</td>\n      <td>1</td>\n      <td>[650.0, 511.0, 206.0, 284.0]</td>\n    </tr>\n    <tr>\n      <th>18</th>\n      <td>00d7c36e-3cdf-4df6-ac03-6c30cdc8e85b</td>\n      <td>NaN</td>\n      <td>NaN</td>\n      <td>NaN</td>\n      <td>NaN</td>\n      <td>0</td>\n      <td>[nan, nan, nan, nan]</td>\n    </tr>\n    <tr>\n      <th>19</th>\n      <td>00f08de1-517e-4652-a04f-d1dc9ee48593</td>\n      <td>181.0</td>\n      <td>184.0</td>\n      <td>206.0</td>\n      <td>506.0</td>\n      <td>1</td>\n      <td>[181.0, 184.0, 206.0, 506.0]</td>\n    </tr>\n  </tbody>\n</table>\n</div>"
          },
          "metadata": {}
        }
      ]
    },
    {
      "metadata": {
        "trusted": true,
        "_uuid": "0f83858672dc5b3d5d47a9bc512ee5578c878a4f"
      },
      "cell_type": "code",
      "source": "df = df.groupby(['patientId'], as_index = False)['bbox_target'].agg('sum')  ",
      "execution_count": 325,
      "outputs": []
    },
    {
      "metadata": {
        "trusted": true,
        "_uuid": "69b784f7d658927cf33dee2153595b537b7676f5",
        "scrolled": false
      },
      "cell_type": "code",
      "source": "df.head()",
      "execution_count": 326,
      "outputs": [
        {
          "output_type": "execute_result",
          "execution_count": 326,
          "data": {
            "text/plain": "                              patientId                                        bbox_target\n0  0004cfab-14fd-4e49-80ba-63a80b6bddd6                               [nan, nan, nan, nan]\n1  000924cf-0f8d-42bd-9158-1af53881a557                               [nan, nan, nan, nan]\n2  000db696-cf54-4385-b10b-6b16fbb3f985  [316.0, 318.0, 170.0, 478.0, 660.0, 375.0, 146...\n3  000fe35a-2649-43d4-b027-e67796d412e0  [570.0, 282.0, 269.0, 409.0, 83.0, 227.0, 296....\n4  001031d9-f904-4a23-b3e5-2c088acd19c6  [66.0, 160.0, 373.0, 608.0, 552.0, 164.0, 376....",
            "text/html": "<div>\n<style scoped>\n    .dataframe tbody tr th:only-of-type {\n        vertical-align: middle;\n    }\n\n    .dataframe tbody tr th {\n        vertical-align: top;\n    }\n\n    .dataframe thead th {\n        text-align: right;\n    }\n</style>\n<table border=\"1\" class=\"dataframe\">\n  <thead>\n    <tr style=\"text-align: right;\">\n      <th></th>\n      <th>patientId</th>\n      <th>bbox_target</th>\n    </tr>\n  </thead>\n  <tbody>\n    <tr>\n      <th>0</th>\n      <td>0004cfab-14fd-4e49-80ba-63a80b6bddd6</td>\n      <td>[nan, nan, nan, nan]</td>\n    </tr>\n    <tr>\n      <th>1</th>\n      <td>000924cf-0f8d-42bd-9158-1af53881a557</td>\n      <td>[nan, nan, nan, nan]</td>\n    </tr>\n    <tr>\n      <th>2</th>\n      <td>000db696-cf54-4385-b10b-6b16fbb3f985</td>\n      <td>[316.0, 318.0, 170.0, 478.0, 660.0, 375.0, 146...</td>\n    </tr>\n    <tr>\n      <th>3</th>\n      <td>000fe35a-2649-43d4-b027-e67796d412e0</td>\n      <td>[570.0, 282.0, 269.0, 409.0, 83.0, 227.0, 296....</td>\n    </tr>\n    <tr>\n      <th>4</th>\n      <td>001031d9-f904-4a23-b3e5-2c088acd19c6</td>\n      <td>[66.0, 160.0, 373.0, 608.0, 552.0, 164.0, 376....</td>\n    </tr>\n  </tbody>\n</table>\n</div>"
          },
          "metadata": {}
        }
      ]
    },
    {
      "metadata": {
        "trusted": true,
        "_uuid": "4141aa24d38ea1ef4f6920a68a6c945f3e7d6126"
      },
      "cell_type": "code",
      "source": "df = df.merge(oof_preds0, on = 'patientId', how = 'left')\ndf = df.merge(oof_preds1, on = 'patientId', how = 'left')\ndf = df.merge(oof_preds2, on = 'patientId', how = 'left')",
      "execution_count": 327,
      "outputs": []
    },
    {
      "metadata": {
        "trusted": true,
        "_uuid": "570955fd204ba15c7fff1539b7d2c6e50e3a795e"
      },
      "cell_type": "code",
      "source": "df = df.fillna('')",
      "execution_count": 328,
      "outputs": []
    },
    {
      "metadata": {
        "trusted": true,
        "scrolled": true,
        "_uuid": "f50eb5616dd3c078aa4c76338305b98e3d02f9df"
      },
      "cell_type": "code",
      "source": "df.loc[:, 'bbox_pred'] = (oof_preds0.loc[:, 'PredictionString'])",
      "execution_count": 329,
      "outputs": []
    },
    {
      "metadata": {
        "trusted": true,
        "_uuid": "c2985f52b11d8a4e5bceb1f26e2526ec6ceb4537"
      },
      "cell_type": "code",
      "source": "df = df.drop(['PredictionString','PredictionString_x', 'PredictionString_y'], axis=1)",
      "execution_count": 330,
      "outputs": []
    },
    {
      "metadata": {
        "trusted": true,
        "_uuid": "d0da3608dd4c06ecec05784f28c5279de5de430c",
        "scrolled": true
      },
      "cell_type": "code",
      "source": "df.head(20)",
      "execution_count": 331,
      "outputs": [
        {
          "output_type": "execute_result",
          "execution_count": 331,
          "data": {
            "text/plain": "                               patientId                     ...                                                       bbox_pred\n0   0004cfab-14fd-4e49-80ba-63a80b6bddd6                     ...                      0.97 612 372 268 416 0.97 240 568 188 184 \n1   000924cf-0f8d-42bd-9158-1af53881a557                     ...                                                             NaN\n2   000db696-cf54-4385-b10b-6b16fbb3f985                     ...                                                             NaN\n3   000fe35a-2649-43d4-b027-e67796d412e0                     ...                                                             NaN\n4   001031d9-f904-4a23-b3e5-2c088acd19c6                     ...                                                             NaN\n5   0010f549-b242-4e94-87a8-57d79de215fc                     ...                                                             NaN\n6   001916b8-3d30-4935-a5d1-8eaddb1646cd                     ...                                                             NaN\n7   0022073f-cec8-42ec-ab5f-bc2314649235                     ...                                                             NaN\n8   0022995a-45eb-4cfa-9a59-cd15f5196c64                     ...                                                             NaN\n9   0025d2de-bd78-4d36-9f72-e15a5e22ca82                     ...                                                             NaN\n10  00293de0-a530-41dc-9621-0b3def01d06d                     ...                                                             NaN\n11  002c591d-df62-4e34-8eda-838c664430a9                     ...                      0.98 208 164 208 352 0.96 568 392 184 244 \n12  002cb550-2e31-42f1-a29d-fbc279977e71                     ...                                                             NaN\n13  00313ee0-9eaa-42f4-b0ab-c148ed3241cd                     ...                                                             NaN\n14  00322d4d-1c29-4943-afc9-b6754be640eb                     ...                                           0.96 180 392 232 176 \n15  003d8fa0-6bf1-40ed-b54c-ac657f8495c5                     ...                                            0.95 324 84 208 412 \n16  00436515-870c-4b36-a041-de91049b9ab4                     ...                                                             NaN\n17  0049f7b2-229b-4a46-91a3-0e321a3ca80a                     ...                                                             NaN\n18  0053ee32-1e03-4dc2-a103-f46ad0448787                     ...                      0.98 612 368 232 184 0.96 212 408 208 136 \n19  00569f44-917d-4c86-a842-81832af98c30                     ...                                           0.98 164 440 220 156 \n\n[20 rows x 3 columns]",
            "text/html": "<div>\n<style scoped>\n    .dataframe tbody tr th:only-of-type {\n        vertical-align: middle;\n    }\n\n    .dataframe tbody tr th {\n        vertical-align: top;\n    }\n\n    .dataframe thead th {\n        text-align: right;\n    }\n</style>\n<table border=\"1\" class=\"dataframe\">\n  <thead>\n    <tr style=\"text-align: right;\">\n      <th></th>\n      <th>patientId</th>\n      <th>bbox_target</th>\n      <th>bbox_pred</th>\n    </tr>\n  </thead>\n  <tbody>\n    <tr>\n      <th>0</th>\n      <td>0004cfab-14fd-4e49-80ba-63a80b6bddd6</td>\n      <td>[nan, nan, nan, nan]</td>\n      <td>0.97 612 372 268 416 0.97 240 568 188 184</td>\n    </tr>\n    <tr>\n      <th>1</th>\n      <td>000924cf-0f8d-42bd-9158-1af53881a557</td>\n      <td>[nan, nan, nan, nan]</td>\n      <td>NaN</td>\n    </tr>\n    <tr>\n      <th>2</th>\n      <td>000db696-cf54-4385-b10b-6b16fbb3f985</td>\n      <td>[316.0, 318.0, 170.0, 478.0, 660.0, 375.0, 146...</td>\n      <td>NaN</td>\n    </tr>\n    <tr>\n      <th>3</th>\n      <td>000fe35a-2649-43d4-b027-e67796d412e0</td>\n      <td>[570.0, 282.0, 269.0, 409.0, 83.0, 227.0, 296....</td>\n      <td>NaN</td>\n    </tr>\n    <tr>\n      <th>4</th>\n      <td>001031d9-f904-4a23-b3e5-2c088acd19c6</td>\n      <td>[66.0, 160.0, 373.0, 608.0, 552.0, 164.0, 376....</td>\n      <td>NaN</td>\n    </tr>\n    <tr>\n      <th>5</th>\n      <td>0010f549-b242-4e94-87a8-57d79de215fc</td>\n      <td>[nan, nan, nan, nan]</td>\n      <td>NaN</td>\n    </tr>\n    <tr>\n      <th>6</th>\n      <td>001916b8-3d30-4935-a5d1-8eaddb1646cd</td>\n      <td>[198.0, 375.0, 114.0, 206.0]</td>\n      <td>NaN</td>\n    </tr>\n    <tr>\n      <th>7</th>\n      <td>0022073f-cec8-42ec-ab5f-bc2314649235</td>\n      <td>[575.0, 232.0, 246.0, 528.0, 161.0, 230.0, 223...</td>\n      <td>NaN</td>\n    </tr>\n    <tr>\n      <th>8</th>\n      <td>0022995a-45eb-4cfa-9a59-cd15f5196c64</td>\n      <td>[nan, nan, nan, nan]</td>\n      <td>NaN</td>\n    </tr>\n    <tr>\n      <th>9</th>\n      <td>0025d2de-bd78-4d36-9f72-e15a5e22ca82</td>\n      <td>[nan, nan, nan, nan]</td>\n      <td>NaN</td>\n    </tr>\n    <tr>\n      <th>10</th>\n      <td>00293de0-a530-41dc-9621-0b3def01d06d</td>\n      <td>[nan, nan, nan, nan]</td>\n      <td>NaN</td>\n    </tr>\n    <tr>\n      <th>11</th>\n      <td>002c591d-df62-4e34-8eda-838c664430a9</td>\n      <td>[nan, nan, nan, nan]</td>\n      <td>0.98 208 164 208 352 0.96 568 392 184 244</td>\n    </tr>\n    <tr>\n      <th>12</th>\n      <td>002cb550-2e31-42f1-a29d-fbc279977e71</td>\n      <td>[176.0, 342.0, 170.0, 239.0, 515.0, 333.0, 167...</td>\n      <td>NaN</td>\n    </tr>\n    <tr>\n      <th>13</th>\n      <td>00313ee0-9eaa-42f4-b0ab-c148ed3241cd</td>\n      <td>[nan, nan, nan, nan]</td>\n      <td>NaN</td>\n    </tr>\n    <tr>\n      <th>14</th>\n      <td>00322d4d-1c29-4943-afc9-b6754be640eb</td>\n      <td>[nan, nan, nan, nan]</td>\n      <td>0.96 180 392 232 176</td>\n    </tr>\n    <tr>\n      <th>15</th>\n      <td>003d8fa0-6bf1-40ed-b54c-ac657f8495c5</td>\n      <td>[nan, nan, nan, nan]</td>\n      <td>0.95 324 84 208 412</td>\n    </tr>\n    <tr>\n      <th>16</th>\n      <td>00436515-870c-4b36-a041-de91049b9ab4</td>\n      <td>[264.0, 152.0, 213.0, 379.0, 562.0, 152.0, 256...</td>\n      <td>NaN</td>\n    </tr>\n    <tr>\n      <th>17</th>\n      <td>0049f7b2-229b-4a46-91a3-0e321a3ca80a</td>\n      <td>[nan, nan, nan, nan]</td>\n      <td>NaN</td>\n    </tr>\n    <tr>\n      <th>18</th>\n      <td>0053ee32-1e03-4dc2-a103-f46ad0448787</td>\n      <td>[nan, nan, nan, nan]</td>\n      <td>0.98 612 368 232 184 0.96 212 408 208 136</td>\n    </tr>\n    <tr>\n      <th>19</th>\n      <td>00569f44-917d-4c86-a842-81832af98c30</td>\n      <td>[nan, nan, nan, nan]</td>\n      <td>0.98 164 440 220 156</td>\n    </tr>\n  </tbody>\n</table>\n</div>"
          },
          "metadata": {}
        }
      ]
    },
    {
      "metadata": {
        "trusted": true,
        "_uuid": "4202293bdb677d876c65949a62c919276ae71938"
      },
      "cell_type": "code",
      "source": "df.loc[:, 'bbox_pred'] = df.loc[:, 'bbox_pred'].str.strip()",
      "execution_count": 332,
      "outputs": []
    },
    {
      "metadata": {
        "trusted": true,
        "_uuid": "d76374ae2bba0f460742d5078b66a42dc5ad64d9",
        "scrolled": true
      },
      "cell_type": "code",
      "source": "df = df.fillna(' ')\ndf.loc[:, 'bbox_pred'] = df.loc[:, 'bbox_pred'].map(lambda x: x.split(' '))",
      "execution_count": 333,
      "outputs": []
    },
    {
      "metadata": {
        "trusted": true,
        "_uuid": "74809b3a3d585bd90e0465bc56c3b3bff567158f"
      },
      "cell_type": "code",
      "source": "df.head(100)",
      "execution_count": 334,
      "outputs": [
        {
          "output_type": "execute_result",
          "execution_count": 334,
          "data": {
            "text/plain": "                               patientId                        ...                                                                  bbox_pred\n0   0004cfab-14fd-4e49-80ba-63a80b6bddd6                        ...                          [0.97, 612, 372, 268, 416, 0.97, 240, 568, 188...\n1   000924cf-0f8d-42bd-9158-1af53881a557                        ...                                                                       [, ]\n2   000db696-cf54-4385-b10b-6b16fbb3f985                        ...                                                                       [, ]\n3   000fe35a-2649-43d4-b027-e67796d412e0                        ...                                                                       [, ]\n4   001031d9-f904-4a23-b3e5-2c088acd19c6                        ...                                                                       [, ]\n5   0010f549-b242-4e94-87a8-57d79de215fc                        ...                                                                       [, ]\n6   001916b8-3d30-4935-a5d1-8eaddb1646cd                        ...                                                                       [, ]\n7   0022073f-cec8-42ec-ab5f-bc2314649235                        ...                                                                       [, ]\n8   0022995a-45eb-4cfa-9a59-cd15f5196c64                        ...                                                                       [, ]\n9   0025d2de-bd78-4d36-9f72-e15a5e22ca82                        ...                                                                       [, ]\n10  00293de0-a530-41dc-9621-0b3def01d06d                        ...                                                                       [, ]\n11  002c591d-df62-4e34-8eda-838c664430a9                        ...                          [0.98, 208, 164, 208, 352, 0.96, 568, 392, 184...\n12  002cb550-2e31-42f1-a29d-fbc279977e71                        ...                                                                       [, ]\n13  00313ee0-9eaa-42f4-b0ab-c148ed3241cd                        ...                                                                       [, ]\n14  00322d4d-1c29-4943-afc9-b6754be640eb                        ...                                                 [0.96, 180, 392, 232, 176]\n15  003d8fa0-6bf1-40ed-b54c-ac657f8495c5                        ...                                                  [0.95, 324, 84, 208, 412]\n16  00436515-870c-4b36-a041-de91049b9ab4                        ...                                                                       [, ]\n17  0049f7b2-229b-4a46-91a3-0e321a3ca80a                        ...                                                                       [, ]\n18  0053ee32-1e03-4dc2-a103-f46ad0448787                        ...                          [0.98, 612, 368, 232, 184, 0.96, 212, 408, 208...\n19  00569f44-917d-4c86-a842-81832af98c30                        ...                                                 [0.98, 164, 440, 220, 156]\n20  005f5517-ab76-4b0d-8a26-f808d97171c4                        ...                                                                       [, ]\n21  0067d70b-0e6d-41ff-a9b8-8edf6d5e25e4                        ...                                                                       [, ]\n22  006cec2e-6ce2-4549-bffa-eadfcd1e9970                        ...                                                                       [, ]\n23  006e75c8-1fd9-4a5a-99e7-285addebed55                        ...                          [0.98, 176, 508, 216, 304, 0.97, 624, 308, 284...\n24  00704310-78a8-4b38-8475-49f4573b2dbb                        ...                                                                       [, ]\n25  0087bd3a-55a7-4045-b111-b018fa52d361                        ...                                                                       [, ]\n26  0088be53-27f2-4c30-882b-a73a3a5c8c71                        ...                                                                       [, ]\n27  008b69b2-446a-43dd-9ba2-9ccff8f3da41                        ...                                                 [0.98, 232, 428, 204, 276]\n28  008c19e8-a820-403a-930a-bc74a4053664                        ...                                                                       [, ]\n29  0092d9c5-26b6-4e66-b196-49b2224ab8d1                        ...                          [0.99, 620, 416, 184, 288, 0.98, 252, 516, 184...\n..                                   ...                        ...                                                                        ...\n70  01a5594f-e5d4-4f7a-b79d-3f57559fe37b                        ...                                                                       [, ]\n71  01a6eaa6-222f-4ea8-9874-bbd89dc1a1ce                        ...                                                                       [, ]\n72  01a7353d-25bb-4ff8-916b-f50dd541dccf                        ...                                                 [0.98, 608, 384, 256, 288]\n73  01aad2a6-3b93-45e3-bf37-2d73348cb6fc                        ...                                                                       [, ]\n74  01adfd2f-7bc7-4cef-ab68-a0992752b620                        ...                                                 [0.99, 192, 340, 216, 224]\n75  01b15f07-1149-4ff8-9756-bc821e41b97c                        ...                          [0.98, 524, 152, 320, 408, 0.97, 104, 332, 260...\n76  01b56434-4dd9-4994-bcc5-0b70a36e415a                        ...                                                                       [, ]\n77  01b9e362-4950-40f5-88fa-7557ac2a45bb                        ...                                                 [0.97, 232, 388, 244, 452]\n78  01be392f-a46d-4aef-a57e-9cd1a80dd47e                        ...                                                                       [, ]\n79  01be3fe5-4a91-4c57-9af6-305966a7d0aa                        ...                                                                       [, ]\n80  01c09fb1-a917-46ee-8d94-44f844a4eb85                        ...                                                 [0.96, 252, 540, 164, 320]\n81  01c0b605-0a82-401b-9649-81252304ac45                        ...                                                                       [, ]\n82  01c7cc7c-7004-441f-9049-77b7b444dd6b                        ...                          [0.97, 308, 500, 244, 188, 0.96, 712, 432, 256...\n83  01cad8d0-45cd-4603-b099-94055d322310                        ...                                                                       [, ]\n84  01cc7c75-4498-43ab-b650-5553d0507f76                        ...                          [0.98, 524, 452, 244, 352, 0.98, 132, 348, 244...\n85  01cd2ba5-2baf-44b2-bf15-ee57e1ea4599                        ...                                                                       [, ]\n86  01cfa23b-cc98-43af-a61b-56915f90b7ef                        ...                                                                       [, ]\n87  01d1f0be-5216-4af5-b2dc-a160c1c56122                        ...                                                                       [, ]\n88  01d4fa0f-97a0-4522-b0d8-134400db2a3e                        ...                                                                       [, ]\n89  01d72346-4459-4eaa-8a19-d3c92121d17f                        ...                                                                       [, ]\n90  01dc817c-3cfa-49fe-8662-518edc30652a                        ...                                                 [0.97, 208, 332, 216, 248]\n91  01e16ddb-682d-4901-b56d-8686c4f9f976                        ...                                                 [0.96, 376, 340, 224, 440]\n92  01e4fd43-4f2c-421f-bd68-c756dceb5742                        ...                                                                       [, ]\n93  01e800d4-4d8d-4ef5-a40a-f37b923bb7ad                        ...                          [0.98, 532, 492, 164, 176, 0.97, 192, 328, 196...\n94  01ee3bcb-d6a8-4586-b0a5-9647969da07d                        ...                                                                       [, ]\n95  01ef1712-90a6-4946-ad86-fc76b0cf2d3b                        ...                          [0.99, 212, 276, 236, 320, 0.97, 524, 192, 292...\n96  01ef449e-d493-4db2-9162-d83c69f90f40                        ...                                                 [0.96, 544, 524, 188, 132]\n97  01f0d9cc-f69e-471a-987a-be73a36e18cc                        ...                                                 [0.99, 180, 336, 192, 232]\n98  01f0f4bf-e678-430e-b43d-2968e2c4976c                        ...                                                 [0.96, 288, 476, 180, 236]\n99  01f11e57-5c11-4ab0-9312-d88c3826721c                        ...                                                                       [, ]\n\n[100 rows x 3 columns]",
            "text/html": "<div>\n<style scoped>\n    .dataframe tbody tr th:only-of-type {\n        vertical-align: middle;\n    }\n\n    .dataframe tbody tr th {\n        vertical-align: top;\n    }\n\n    .dataframe thead th {\n        text-align: right;\n    }\n</style>\n<table border=\"1\" class=\"dataframe\">\n  <thead>\n    <tr style=\"text-align: right;\">\n      <th></th>\n      <th>patientId</th>\n      <th>bbox_target</th>\n      <th>bbox_pred</th>\n    </tr>\n  </thead>\n  <tbody>\n    <tr>\n      <th>0</th>\n      <td>0004cfab-14fd-4e49-80ba-63a80b6bddd6</td>\n      <td>[nan, nan, nan, nan]</td>\n      <td>[0.97, 612, 372, 268, 416, 0.97, 240, 568, 188...</td>\n    </tr>\n    <tr>\n      <th>1</th>\n      <td>000924cf-0f8d-42bd-9158-1af53881a557</td>\n      <td>[nan, nan, nan, nan]</td>\n      <td>[, ]</td>\n    </tr>\n    <tr>\n      <th>2</th>\n      <td>000db696-cf54-4385-b10b-6b16fbb3f985</td>\n      <td>[316.0, 318.0, 170.0, 478.0, 660.0, 375.0, 146...</td>\n      <td>[, ]</td>\n    </tr>\n    <tr>\n      <th>3</th>\n      <td>000fe35a-2649-43d4-b027-e67796d412e0</td>\n      <td>[570.0, 282.0, 269.0, 409.0, 83.0, 227.0, 296....</td>\n      <td>[, ]</td>\n    </tr>\n    <tr>\n      <th>4</th>\n      <td>001031d9-f904-4a23-b3e5-2c088acd19c6</td>\n      <td>[66.0, 160.0, 373.0, 608.0, 552.0, 164.0, 376....</td>\n      <td>[, ]</td>\n    </tr>\n    <tr>\n      <th>5</th>\n      <td>0010f549-b242-4e94-87a8-57d79de215fc</td>\n      <td>[nan, nan, nan, nan]</td>\n      <td>[, ]</td>\n    </tr>\n    <tr>\n      <th>6</th>\n      <td>001916b8-3d30-4935-a5d1-8eaddb1646cd</td>\n      <td>[198.0, 375.0, 114.0, 206.0]</td>\n      <td>[, ]</td>\n    </tr>\n    <tr>\n      <th>7</th>\n      <td>0022073f-cec8-42ec-ab5f-bc2314649235</td>\n      <td>[575.0, 232.0, 246.0, 528.0, 161.0, 230.0, 223...</td>\n      <td>[, ]</td>\n    </tr>\n    <tr>\n      <th>8</th>\n      <td>0022995a-45eb-4cfa-9a59-cd15f5196c64</td>\n      <td>[nan, nan, nan, nan]</td>\n      <td>[, ]</td>\n    </tr>\n    <tr>\n      <th>9</th>\n      <td>0025d2de-bd78-4d36-9f72-e15a5e22ca82</td>\n      <td>[nan, nan, nan, nan]</td>\n      <td>[, ]</td>\n    </tr>\n    <tr>\n      <th>10</th>\n      <td>00293de0-a530-41dc-9621-0b3def01d06d</td>\n      <td>[nan, nan, nan, nan]</td>\n      <td>[, ]</td>\n    </tr>\n    <tr>\n      <th>11</th>\n      <td>002c591d-df62-4e34-8eda-838c664430a9</td>\n      <td>[nan, nan, nan, nan]</td>\n      <td>[0.98, 208, 164, 208, 352, 0.96, 568, 392, 184...</td>\n    </tr>\n    <tr>\n      <th>12</th>\n      <td>002cb550-2e31-42f1-a29d-fbc279977e71</td>\n      <td>[176.0, 342.0, 170.0, 239.0, 515.0, 333.0, 167...</td>\n      <td>[, ]</td>\n    </tr>\n    <tr>\n      <th>13</th>\n      <td>00313ee0-9eaa-42f4-b0ab-c148ed3241cd</td>\n      <td>[nan, nan, nan, nan]</td>\n      <td>[, ]</td>\n    </tr>\n    <tr>\n      <th>14</th>\n      <td>00322d4d-1c29-4943-afc9-b6754be640eb</td>\n      <td>[nan, nan, nan, nan]</td>\n      <td>[0.96, 180, 392, 232, 176]</td>\n    </tr>\n    <tr>\n      <th>15</th>\n      <td>003d8fa0-6bf1-40ed-b54c-ac657f8495c5</td>\n      <td>[nan, nan, nan, nan]</td>\n      <td>[0.95, 324, 84, 208, 412]</td>\n    </tr>\n    <tr>\n      <th>16</th>\n      <td>00436515-870c-4b36-a041-de91049b9ab4</td>\n      <td>[264.0, 152.0, 213.0, 379.0, 562.0, 152.0, 256...</td>\n      <td>[, ]</td>\n    </tr>\n    <tr>\n      <th>17</th>\n      <td>0049f7b2-229b-4a46-91a3-0e321a3ca80a</td>\n      <td>[nan, nan, nan, nan]</td>\n      <td>[, ]</td>\n    </tr>\n    <tr>\n      <th>18</th>\n      <td>0053ee32-1e03-4dc2-a103-f46ad0448787</td>\n      <td>[nan, nan, nan, nan]</td>\n      <td>[0.98, 612, 368, 232, 184, 0.96, 212, 408, 208...</td>\n    </tr>\n    <tr>\n      <th>19</th>\n      <td>00569f44-917d-4c86-a842-81832af98c30</td>\n      <td>[nan, nan, nan, nan]</td>\n      <td>[0.98, 164, 440, 220, 156]</td>\n    </tr>\n    <tr>\n      <th>20</th>\n      <td>005f5517-ab76-4b0d-8a26-f808d97171c4</td>\n      <td>[nan, nan, nan, nan]</td>\n      <td>[, ]</td>\n    </tr>\n    <tr>\n      <th>21</th>\n      <td>0067d70b-0e6d-41ff-a9b8-8edf6d5e25e4</td>\n      <td>[nan, nan, nan, nan]</td>\n      <td>[, ]</td>\n    </tr>\n    <tr>\n      <th>22</th>\n      <td>006cec2e-6ce2-4549-bffa-eadfcd1e9970</td>\n      <td>[nan, nan, nan, nan]</td>\n      <td>[, ]</td>\n    </tr>\n    <tr>\n      <th>23</th>\n      <td>006e75c8-1fd9-4a5a-99e7-285addebed55</td>\n      <td>[nan, nan, nan, nan]</td>\n      <td>[0.98, 176, 508, 216, 304, 0.97, 624, 308, 284...</td>\n    </tr>\n    <tr>\n      <th>24</th>\n      <td>00704310-78a8-4b38-8475-49f4573b2dbb</td>\n      <td>[323.0, 577.0, 160.0, 104.0, 695.0, 575.0, 162...</td>\n      <td>[, ]</td>\n    </tr>\n    <tr>\n      <th>25</th>\n      <td>0087bd3a-55a7-4045-b111-b018fa52d361</td>\n      <td>[257.0, 398.0, 146.0, 341.0, 647.0, 367.0, 170...</td>\n      <td>[, ]</td>\n    </tr>\n    <tr>\n      <th>26</th>\n      <td>0088be53-27f2-4c30-882b-a73a3a5c8c71</td>\n      <td>[nan, nan, nan, nan]</td>\n      <td>[, ]</td>\n    </tr>\n    <tr>\n      <th>27</th>\n      <td>008b69b2-446a-43dd-9ba2-9ccff8f3da41</td>\n      <td>[nan, nan, nan, nan]</td>\n      <td>[0.98, 232, 428, 204, 276]</td>\n    </tr>\n    <tr>\n      <th>28</th>\n      <td>008c19e8-a820-403a-930a-bc74a4053664</td>\n      <td>[nan, nan, nan, nan]</td>\n      <td>[, ]</td>\n    </tr>\n    <tr>\n      <th>29</th>\n      <td>0092d9c5-26b6-4e66-b196-49b2224ab8d1</td>\n      <td>[nan, nan, nan, nan]</td>\n      <td>[0.99, 620, 416, 184, 288, 0.98, 252, 516, 184...</td>\n    </tr>\n    <tr>\n      <th>...</th>\n      <td>...</td>\n      <td>...</td>\n      <td>...</td>\n    </tr>\n    <tr>\n      <th>70</th>\n      <td>01a5594f-e5d4-4f7a-b79d-3f57559fe37b</td>\n      <td>[nan, nan, nan, nan]</td>\n      <td>[, ]</td>\n    </tr>\n    <tr>\n      <th>71</th>\n      <td>01a6eaa6-222f-4ea8-9874-bbd89dc1a1ce</td>\n      <td>[141.0, 306.0, 225.0, 327.0, 609.0, 285.0, 236...</td>\n      <td>[, ]</td>\n    </tr>\n    <tr>\n      <th>72</th>\n      <td>01a7353d-25bb-4ff8-916b-f50dd541dccf</td>\n      <td>[214.0, 582.0, 239.0, 133.0, 664.0, 540.0, 223...</td>\n      <td>[0.98, 608, 384, 256, 288]</td>\n    </tr>\n    <tr>\n      <th>73</th>\n      <td>01aad2a6-3b93-45e3-bf37-2d73348cb6fc</td>\n      <td>[nan, nan, nan, nan]</td>\n      <td>[, ]</td>\n    </tr>\n    <tr>\n      <th>74</th>\n      <td>01adfd2f-7bc7-4cef-ab68-a0992752b620</td>\n      <td>[225.0, 415.0, 98.0, 101.0]</td>\n      <td>[0.99, 192, 340, 216, 224]</td>\n    </tr>\n    <tr>\n      <th>75</th>\n      <td>01b15f07-1149-4ff8-9756-bc821e41b97c</td>\n      <td>[nan, nan, nan, nan]</td>\n      <td>[0.98, 524, 152, 320, 408, 0.97, 104, 332, 260...</td>\n    </tr>\n    <tr>\n      <th>76</th>\n      <td>01b56434-4dd9-4994-bcc5-0b70a36e415a</td>\n      <td>[nan, nan, nan, nan]</td>\n      <td>[, ]</td>\n    </tr>\n    <tr>\n      <th>77</th>\n      <td>01b9e362-4950-40f5-88fa-7557ac2a45bb</td>\n      <td>[366.0, 289.0, 208.0, 527.0, 714.0, 278.0, 255...</td>\n      <td>[0.97, 232, 388, 244, 452]</td>\n    </tr>\n    <tr>\n      <th>78</th>\n      <td>01be392f-a46d-4aef-a57e-9cd1a80dd47e</td>\n      <td>[535.0, 626.0, 177.0, 240.0, 175.0, 825.0, 168...</td>\n      <td>[, ]</td>\n    </tr>\n    <tr>\n      <th>79</th>\n      <td>01be3fe5-4a91-4c57-9af6-305966a7d0aa</td>\n      <td>[nan, nan, nan, nan]</td>\n      <td>[, ]</td>\n    </tr>\n    <tr>\n      <th>80</th>\n      <td>01c09fb1-a917-46ee-8d94-44f844a4eb85</td>\n      <td>[nan, nan, nan, nan]</td>\n      <td>[0.96, 252, 540, 164, 320]</td>\n    </tr>\n    <tr>\n      <th>81</th>\n      <td>01c0b605-0a82-401b-9649-81252304ac45</td>\n      <td>[nan, nan, nan, nan]</td>\n      <td>[, ]</td>\n    </tr>\n    <tr>\n      <th>82</th>\n      <td>01c7cc7c-7004-441f-9049-77b7b444dd6b</td>\n      <td>[nan, nan, nan, nan]</td>\n      <td>[0.97, 308, 500, 244, 188, 0.96, 712, 432, 256...</td>\n    </tr>\n    <tr>\n      <th>83</th>\n      <td>01cad8d0-45cd-4603-b099-94055d322310</td>\n      <td>[218.0, 667.0, 258.0, 324.0, 756.0, 556.0, 225...</td>\n      <td>[, ]</td>\n    </tr>\n    <tr>\n      <th>84</th>\n      <td>01cc7c75-4498-43ab-b650-5553d0507f76</td>\n      <td>[nan, nan, nan, nan]</td>\n      <td>[0.98, 524, 452, 244, 352, 0.98, 132, 348, 244...</td>\n    </tr>\n    <tr>\n      <th>85</th>\n      <td>01cd2ba5-2baf-44b2-bf15-ee57e1ea4599</td>\n      <td>[664.0, 380.0, 141.0, 330.0]</td>\n      <td>[, ]</td>\n    </tr>\n    <tr>\n      <th>86</th>\n      <td>01cfa23b-cc98-43af-a61b-56915f90b7ef</td>\n      <td>[nan, nan, nan, nan]</td>\n      <td>[, ]</td>\n    </tr>\n    <tr>\n      <th>87</th>\n      <td>01d1f0be-5216-4af5-b2dc-a160c1c56122</td>\n      <td>[nan, nan, nan, nan]</td>\n      <td>[, ]</td>\n    </tr>\n    <tr>\n      <th>88</th>\n      <td>01d4fa0f-97a0-4522-b0d8-134400db2a3e</td>\n      <td>[222.0, 258.0, 194.0, 436.0, 570.0, 268.0, 249...</td>\n      <td>[, ]</td>\n    </tr>\n    <tr>\n      <th>89</th>\n      <td>01d72346-4459-4eaa-8a19-d3c92121d17f</td>\n      <td>[nan, nan, nan, nan]</td>\n      <td>[, ]</td>\n    </tr>\n    <tr>\n      <th>90</th>\n      <td>01dc817c-3cfa-49fe-8662-518edc30652a</td>\n      <td>[368.0, 677.0, 101.0, 139.0]</td>\n      <td>[0.97, 208, 332, 216, 248]</td>\n    </tr>\n    <tr>\n      <th>91</th>\n      <td>01e16ddb-682d-4901-b56d-8686c4f9f976</td>\n      <td>[nan, nan, nan, nan]</td>\n      <td>[0.96, 376, 340, 224, 440]</td>\n    </tr>\n    <tr>\n      <th>92</th>\n      <td>01e4fd43-4f2c-421f-bd68-c756dceb5742</td>\n      <td>[nan, nan, nan, nan]</td>\n      <td>[, ]</td>\n    </tr>\n    <tr>\n      <th>93</th>\n      <td>01e800d4-4d8d-4ef5-a40a-f37b923bb7ad</td>\n      <td>[nan, nan, nan, nan]</td>\n      <td>[0.98, 532, 492, 164, 176, 0.97, 192, 328, 196...</td>\n    </tr>\n    <tr>\n      <th>94</th>\n      <td>01ee3bcb-d6a8-4586-b0a5-9647969da07d</td>\n      <td>[nan, nan, nan, nan]</td>\n      <td>[, ]</td>\n    </tr>\n    <tr>\n      <th>95</th>\n      <td>01ef1712-90a6-4946-ad86-fc76b0cf2d3b</td>\n      <td>[nan, nan, nan, nan]</td>\n      <td>[0.99, 212, 276, 236, 320, 0.97, 524, 192, 292...</td>\n    </tr>\n    <tr>\n      <th>96</th>\n      <td>01ef449e-d493-4db2-9162-d83c69f90f40</td>\n      <td>[nan, nan, nan, nan]</td>\n      <td>[0.96, 544, 524, 188, 132]</td>\n    </tr>\n    <tr>\n      <th>97</th>\n      <td>01f0d9cc-f69e-471a-987a-be73a36e18cc</td>\n      <td>[nan, nan, nan, nan]</td>\n      <td>[0.99, 180, 336, 192, 232]</td>\n    </tr>\n    <tr>\n      <th>98</th>\n      <td>01f0f4bf-e678-430e-b43d-2968e2c4976c</td>\n      <td>[nan, nan, nan, nan]</td>\n      <td>[0.96, 288, 476, 180, 236]</td>\n    </tr>\n    <tr>\n      <th>99</th>\n      <td>01f11e57-5c11-4ab0-9312-d88c3826721c</td>\n      <td>[nan, nan, nan, nan]</td>\n      <td>[, ]</td>\n    </tr>\n  </tbody>\n</table>\n<p>100 rows × 3 columns</p>\n</div>"
          },
          "metadata": {}
        }
      ]
    },
    {
      "metadata": {
        "trusted": true,
        "_uuid": "830df872fcd1dc6230958452cd4e9b23fa734431"
      },
      "cell_type": "code",
      "source": "def parse_scores(x):\n    if len(x)!=2:\n        scores = [x[k] for k in range(0,len(x),5)]\n        for score in range(len(scores)):\n            scores[score] = float(scores[score])\n        return np.asarray(scores)",
      "execution_count": 335,
      "outputs": []
    },
    {
      "metadata": {
        "trusted": true,
        "_uuid": "69c0e8a7320c70f490db69beb869a19a936aaa4a"
      },
      "cell_type": "code",
      "source": "df.loc[:, 'bbox_scores'] = df.loc[:, 'bbox_pred'].map(parse_scores)",
      "execution_count": 336,
      "outputs": []
    },
    {
      "metadata": {
        "trusted": true,
        "_uuid": "8fe065b483a127815630bb4643f4ff573eb6d077"
      },
      "cell_type": "code",
      "source": "df.head(100)",
      "execution_count": 337,
      "outputs": [
        {
          "output_type": "execute_result",
          "execution_count": 337,
          "data": {
            "text/plain": "                               patientId      ...        bbox_scores\n0   0004cfab-14fd-4e49-80ba-63a80b6bddd6      ...       [0.97, 0.97]\n1   000924cf-0f8d-42bd-9158-1af53881a557      ...               None\n2   000db696-cf54-4385-b10b-6b16fbb3f985      ...               None\n3   000fe35a-2649-43d4-b027-e67796d412e0      ...               None\n4   001031d9-f904-4a23-b3e5-2c088acd19c6      ...               None\n5   0010f549-b242-4e94-87a8-57d79de215fc      ...               None\n6   001916b8-3d30-4935-a5d1-8eaddb1646cd      ...               None\n7   0022073f-cec8-42ec-ab5f-bc2314649235      ...               None\n8   0022995a-45eb-4cfa-9a59-cd15f5196c64      ...               None\n9   0025d2de-bd78-4d36-9f72-e15a5e22ca82      ...               None\n10  00293de0-a530-41dc-9621-0b3def01d06d      ...               None\n11  002c591d-df62-4e34-8eda-838c664430a9      ...       [0.98, 0.96]\n12  002cb550-2e31-42f1-a29d-fbc279977e71      ...               None\n13  00313ee0-9eaa-42f4-b0ab-c148ed3241cd      ...               None\n14  00322d4d-1c29-4943-afc9-b6754be640eb      ...             [0.96]\n15  003d8fa0-6bf1-40ed-b54c-ac657f8495c5      ...             [0.95]\n16  00436515-870c-4b36-a041-de91049b9ab4      ...               None\n17  0049f7b2-229b-4a46-91a3-0e321a3ca80a      ...               None\n18  0053ee32-1e03-4dc2-a103-f46ad0448787      ...       [0.98, 0.96]\n19  00569f44-917d-4c86-a842-81832af98c30      ...             [0.98]\n20  005f5517-ab76-4b0d-8a26-f808d97171c4      ...               None\n21  0067d70b-0e6d-41ff-a9b8-8edf6d5e25e4      ...               None\n22  006cec2e-6ce2-4549-bffa-eadfcd1e9970      ...               None\n23  006e75c8-1fd9-4a5a-99e7-285addebed55      ...       [0.98, 0.97]\n24  00704310-78a8-4b38-8475-49f4573b2dbb      ...               None\n25  0087bd3a-55a7-4045-b111-b018fa52d361      ...               None\n26  0088be53-27f2-4c30-882b-a73a3a5c8c71      ...               None\n27  008b69b2-446a-43dd-9ba2-9ccff8f3da41      ...             [0.98]\n28  008c19e8-a820-403a-930a-bc74a4053664      ...               None\n29  0092d9c5-26b6-4e66-b196-49b2224ab8d1      ...       [0.99, 0.98]\n..                                   ...      ...                ...\n70  01a5594f-e5d4-4f7a-b79d-3f57559fe37b      ...               None\n71  01a6eaa6-222f-4ea8-9874-bbd89dc1a1ce      ...               None\n72  01a7353d-25bb-4ff8-916b-f50dd541dccf      ...             [0.98]\n73  01aad2a6-3b93-45e3-bf37-2d73348cb6fc      ...               None\n74  01adfd2f-7bc7-4cef-ab68-a0992752b620      ...             [0.99]\n75  01b15f07-1149-4ff8-9756-bc821e41b97c      ...       [0.98, 0.97]\n76  01b56434-4dd9-4994-bcc5-0b70a36e415a      ...               None\n77  01b9e362-4950-40f5-88fa-7557ac2a45bb      ...             [0.97]\n78  01be392f-a46d-4aef-a57e-9cd1a80dd47e      ...               None\n79  01be3fe5-4a91-4c57-9af6-305966a7d0aa      ...               None\n80  01c09fb1-a917-46ee-8d94-44f844a4eb85      ...             [0.96]\n81  01c0b605-0a82-401b-9649-81252304ac45      ...               None\n82  01c7cc7c-7004-441f-9049-77b7b444dd6b      ...       [0.97, 0.96]\n83  01cad8d0-45cd-4603-b099-94055d322310      ...               None\n84  01cc7c75-4498-43ab-b650-5553d0507f76      ...       [0.98, 0.98]\n85  01cd2ba5-2baf-44b2-bf15-ee57e1ea4599      ...               None\n86  01cfa23b-cc98-43af-a61b-56915f90b7ef      ...               None\n87  01d1f0be-5216-4af5-b2dc-a160c1c56122      ...               None\n88  01d4fa0f-97a0-4522-b0d8-134400db2a3e      ...               None\n89  01d72346-4459-4eaa-8a19-d3c92121d17f      ...               None\n90  01dc817c-3cfa-49fe-8662-518edc30652a      ...             [0.97]\n91  01e16ddb-682d-4901-b56d-8686c4f9f976      ...             [0.96]\n92  01e4fd43-4f2c-421f-bd68-c756dceb5742      ...               None\n93  01e800d4-4d8d-4ef5-a40a-f37b923bb7ad      ...       [0.98, 0.97]\n94  01ee3bcb-d6a8-4586-b0a5-9647969da07d      ...               None\n95  01ef1712-90a6-4946-ad86-fc76b0cf2d3b      ...       [0.99, 0.97]\n96  01ef449e-d493-4db2-9162-d83c69f90f40      ...             [0.96]\n97  01f0d9cc-f69e-471a-987a-be73a36e18cc      ...             [0.99]\n98  01f0f4bf-e678-430e-b43d-2968e2c4976c      ...             [0.96]\n99  01f11e57-5c11-4ab0-9312-d88c3826721c      ...               None\n\n[100 rows x 4 columns]",
            "text/html": "<div>\n<style scoped>\n    .dataframe tbody tr th:only-of-type {\n        vertical-align: middle;\n    }\n\n    .dataframe tbody tr th {\n        vertical-align: top;\n    }\n\n    .dataframe thead th {\n        text-align: right;\n    }\n</style>\n<table border=\"1\" class=\"dataframe\">\n  <thead>\n    <tr style=\"text-align: right;\">\n      <th></th>\n      <th>patientId</th>\n      <th>bbox_target</th>\n      <th>bbox_pred</th>\n      <th>bbox_scores</th>\n    </tr>\n  </thead>\n  <tbody>\n    <tr>\n      <th>0</th>\n      <td>0004cfab-14fd-4e49-80ba-63a80b6bddd6</td>\n      <td>[nan, nan, nan, nan]</td>\n      <td>[0.97, 612, 372, 268, 416, 0.97, 240, 568, 188...</td>\n      <td>[0.97, 0.97]</td>\n    </tr>\n    <tr>\n      <th>1</th>\n      <td>000924cf-0f8d-42bd-9158-1af53881a557</td>\n      <td>[nan, nan, nan, nan]</td>\n      <td>[, ]</td>\n      <td>None</td>\n    </tr>\n    <tr>\n      <th>2</th>\n      <td>000db696-cf54-4385-b10b-6b16fbb3f985</td>\n      <td>[316.0, 318.0, 170.0, 478.0, 660.0, 375.0, 146...</td>\n      <td>[, ]</td>\n      <td>None</td>\n    </tr>\n    <tr>\n      <th>3</th>\n      <td>000fe35a-2649-43d4-b027-e67796d412e0</td>\n      <td>[570.0, 282.0, 269.0, 409.0, 83.0, 227.0, 296....</td>\n      <td>[, ]</td>\n      <td>None</td>\n    </tr>\n    <tr>\n      <th>4</th>\n      <td>001031d9-f904-4a23-b3e5-2c088acd19c6</td>\n      <td>[66.0, 160.0, 373.0, 608.0, 552.0, 164.0, 376....</td>\n      <td>[, ]</td>\n      <td>None</td>\n    </tr>\n    <tr>\n      <th>5</th>\n      <td>0010f549-b242-4e94-87a8-57d79de215fc</td>\n      <td>[nan, nan, nan, nan]</td>\n      <td>[, ]</td>\n      <td>None</td>\n    </tr>\n    <tr>\n      <th>6</th>\n      <td>001916b8-3d30-4935-a5d1-8eaddb1646cd</td>\n      <td>[198.0, 375.0, 114.0, 206.0]</td>\n      <td>[, ]</td>\n      <td>None</td>\n    </tr>\n    <tr>\n      <th>7</th>\n      <td>0022073f-cec8-42ec-ab5f-bc2314649235</td>\n      <td>[575.0, 232.0, 246.0, 528.0, 161.0, 230.0, 223...</td>\n      <td>[, ]</td>\n      <td>None</td>\n    </tr>\n    <tr>\n      <th>8</th>\n      <td>0022995a-45eb-4cfa-9a59-cd15f5196c64</td>\n      <td>[nan, nan, nan, nan]</td>\n      <td>[, ]</td>\n      <td>None</td>\n    </tr>\n    <tr>\n      <th>9</th>\n      <td>0025d2de-bd78-4d36-9f72-e15a5e22ca82</td>\n      <td>[nan, nan, nan, nan]</td>\n      <td>[, ]</td>\n      <td>None</td>\n    </tr>\n    <tr>\n      <th>10</th>\n      <td>00293de0-a530-41dc-9621-0b3def01d06d</td>\n      <td>[nan, nan, nan, nan]</td>\n      <td>[, ]</td>\n      <td>None</td>\n    </tr>\n    <tr>\n      <th>11</th>\n      <td>002c591d-df62-4e34-8eda-838c664430a9</td>\n      <td>[nan, nan, nan, nan]</td>\n      <td>[0.98, 208, 164, 208, 352, 0.96, 568, 392, 184...</td>\n      <td>[0.98, 0.96]</td>\n    </tr>\n    <tr>\n      <th>12</th>\n      <td>002cb550-2e31-42f1-a29d-fbc279977e71</td>\n      <td>[176.0, 342.0, 170.0, 239.0, 515.0, 333.0, 167...</td>\n      <td>[, ]</td>\n      <td>None</td>\n    </tr>\n    <tr>\n      <th>13</th>\n      <td>00313ee0-9eaa-42f4-b0ab-c148ed3241cd</td>\n      <td>[nan, nan, nan, nan]</td>\n      <td>[, ]</td>\n      <td>None</td>\n    </tr>\n    <tr>\n      <th>14</th>\n      <td>00322d4d-1c29-4943-afc9-b6754be640eb</td>\n      <td>[nan, nan, nan, nan]</td>\n      <td>[0.96, 180, 392, 232, 176]</td>\n      <td>[0.96]</td>\n    </tr>\n    <tr>\n      <th>15</th>\n      <td>003d8fa0-6bf1-40ed-b54c-ac657f8495c5</td>\n      <td>[nan, nan, nan, nan]</td>\n      <td>[0.95, 324, 84, 208, 412]</td>\n      <td>[0.95]</td>\n    </tr>\n    <tr>\n      <th>16</th>\n      <td>00436515-870c-4b36-a041-de91049b9ab4</td>\n      <td>[264.0, 152.0, 213.0, 379.0, 562.0, 152.0, 256...</td>\n      <td>[, ]</td>\n      <td>None</td>\n    </tr>\n    <tr>\n      <th>17</th>\n      <td>0049f7b2-229b-4a46-91a3-0e321a3ca80a</td>\n      <td>[nan, nan, nan, nan]</td>\n      <td>[, ]</td>\n      <td>None</td>\n    </tr>\n    <tr>\n      <th>18</th>\n      <td>0053ee32-1e03-4dc2-a103-f46ad0448787</td>\n      <td>[nan, nan, nan, nan]</td>\n      <td>[0.98, 612, 368, 232, 184, 0.96, 212, 408, 208...</td>\n      <td>[0.98, 0.96]</td>\n    </tr>\n    <tr>\n      <th>19</th>\n      <td>00569f44-917d-4c86-a842-81832af98c30</td>\n      <td>[nan, nan, nan, nan]</td>\n      <td>[0.98, 164, 440, 220, 156]</td>\n      <td>[0.98]</td>\n    </tr>\n    <tr>\n      <th>20</th>\n      <td>005f5517-ab76-4b0d-8a26-f808d97171c4</td>\n      <td>[nan, nan, nan, nan]</td>\n      <td>[, ]</td>\n      <td>None</td>\n    </tr>\n    <tr>\n      <th>21</th>\n      <td>0067d70b-0e6d-41ff-a9b8-8edf6d5e25e4</td>\n      <td>[nan, nan, nan, nan]</td>\n      <td>[, ]</td>\n      <td>None</td>\n    </tr>\n    <tr>\n      <th>22</th>\n      <td>006cec2e-6ce2-4549-bffa-eadfcd1e9970</td>\n      <td>[nan, nan, nan, nan]</td>\n      <td>[, ]</td>\n      <td>None</td>\n    </tr>\n    <tr>\n      <th>23</th>\n      <td>006e75c8-1fd9-4a5a-99e7-285addebed55</td>\n      <td>[nan, nan, nan, nan]</td>\n      <td>[0.98, 176, 508, 216, 304, 0.97, 624, 308, 284...</td>\n      <td>[0.98, 0.97]</td>\n    </tr>\n    <tr>\n      <th>24</th>\n      <td>00704310-78a8-4b38-8475-49f4573b2dbb</td>\n      <td>[323.0, 577.0, 160.0, 104.0, 695.0, 575.0, 162...</td>\n      <td>[, ]</td>\n      <td>None</td>\n    </tr>\n    <tr>\n      <th>25</th>\n      <td>0087bd3a-55a7-4045-b111-b018fa52d361</td>\n      <td>[257.0, 398.0, 146.0, 341.0, 647.0, 367.0, 170...</td>\n      <td>[, ]</td>\n      <td>None</td>\n    </tr>\n    <tr>\n      <th>26</th>\n      <td>0088be53-27f2-4c30-882b-a73a3a5c8c71</td>\n      <td>[nan, nan, nan, nan]</td>\n      <td>[, ]</td>\n      <td>None</td>\n    </tr>\n    <tr>\n      <th>27</th>\n      <td>008b69b2-446a-43dd-9ba2-9ccff8f3da41</td>\n      <td>[nan, nan, nan, nan]</td>\n      <td>[0.98, 232, 428, 204, 276]</td>\n      <td>[0.98]</td>\n    </tr>\n    <tr>\n      <th>28</th>\n      <td>008c19e8-a820-403a-930a-bc74a4053664</td>\n      <td>[nan, nan, nan, nan]</td>\n      <td>[, ]</td>\n      <td>None</td>\n    </tr>\n    <tr>\n      <th>29</th>\n      <td>0092d9c5-26b6-4e66-b196-49b2224ab8d1</td>\n      <td>[nan, nan, nan, nan]</td>\n      <td>[0.99, 620, 416, 184, 288, 0.98, 252, 516, 184...</td>\n      <td>[0.99, 0.98]</td>\n    </tr>\n    <tr>\n      <th>...</th>\n      <td>...</td>\n      <td>...</td>\n      <td>...</td>\n      <td>...</td>\n    </tr>\n    <tr>\n      <th>70</th>\n      <td>01a5594f-e5d4-4f7a-b79d-3f57559fe37b</td>\n      <td>[nan, nan, nan, nan]</td>\n      <td>[, ]</td>\n      <td>None</td>\n    </tr>\n    <tr>\n      <th>71</th>\n      <td>01a6eaa6-222f-4ea8-9874-bbd89dc1a1ce</td>\n      <td>[141.0, 306.0, 225.0, 327.0, 609.0, 285.0, 236...</td>\n      <td>[, ]</td>\n      <td>None</td>\n    </tr>\n    <tr>\n      <th>72</th>\n      <td>01a7353d-25bb-4ff8-916b-f50dd541dccf</td>\n      <td>[214.0, 582.0, 239.0, 133.0, 664.0, 540.0, 223...</td>\n      <td>[0.98, 608, 384, 256, 288]</td>\n      <td>[0.98]</td>\n    </tr>\n    <tr>\n      <th>73</th>\n      <td>01aad2a6-3b93-45e3-bf37-2d73348cb6fc</td>\n      <td>[nan, nan, nan, nan]</td>\n      <td>[, ]</td>\n      <td>None</td>\n    </tr>\n    <tr>\n      <th>74</th>\n      <td>01adfd2f-7bc7-4cef-ab68-a0992752b620</td>\n      <td>[225.0, 415.0, 98.0, 101.0]</td>\n      <td>[0.99, 192, 340, 216, 224]</td>\n      <td>[0.99]</td>\n    </tr>\n    <tr>\n      <th>75</th>\n      <td>01b15f07-1149-4ff8-9756-bc821e41b97c</td>\n      <td>[nan, nan, nan, nan]</td>\n      <td>[0.98, 524, 152, 320, 408, 0.97, 104, 332, 260...</td>\n      <td>[0.98, 0.97]</td>\n    </tr>\n    <tr>\n      <th>76</th>\n      <td>01b56434-4dd9-4994-bcc5-0b70a36e415a</td>\n      <td>[nan, nan, nan, nan]</td>\n      <td>[, ]</td>\n      <td>None</td>\n    </tr>\n    <tr>\n      <th>77</th>\n      <td>01b9e362-4950-40f5-88fa-7557ac2a45bb</td>\n      <td>[366.0, 289.0, 208.0, 527.0, 714.0, 278.0, 255...</td>\n      <td>[0.97, 232, 388, 244, 452]</td>\n      <td>[0.97]</td>\n    </tr>\n    <tr>\n      <th>78</th>\n      <td>01be392f-a46d-4aef-a57e-9cd1a80dd47e</td>\n      <td>[535.0, 626.0, 177.0, 240.0, 175.0, 825.0, 168...</td>\n      <td>[, ]</td>\n      <td>None</td>\n    </tr>\n    <tr>\n      <th>79</th>\n      <td>01be3fe5-4a91-4c57-9af6-305966a7d0aa</td>\n      <td>[nan, nan, nan, nan]</td>\n      <td>[, ]</td>\n      <td>None</td>\n    </tr>\n    <tr>\n      <th>80</th>\n      <td>01c09fb1-a917-46ee-8d94-44f844a4eb85</td>\n      <td>[nan, nan, nan, nan]</td>\n      <td>[0.96, 252, 540, 164, 320]</td>\n      <td>[0.96]</td>\n    </tr>\n    <tr>\n      <th>81</th>\n      <td>01c0b605-0a82-401b-9649-81252304ac45</td>\n      <td>[nan, nan, nan, nan]</td>\n      <td>[, ]</td>\n      <td>None</td>\n    </tr>\n    <tr>\n      <th>82</th>\n      <td>01c7cc7c-7004-441f-9049-77b7b444dd6b</td>\n      <td>[nan, nan, nan, nan]</td>\n      <td>[0.97, 308, 500, 244, 188, 0.96, 712, 432, 256...</td>\n      <td>[0.97, 0.96]</td>\n    </tr>\n    <tr>\n      <th>83</th>\n      <td>01cad8d0-45cd-4603-b099-94055d322310</td>\n      <td>[218.0, 667.0, 258.0, 324.0, 756.0, 556.0, 225...</td>\n      <td>[, ]</td>\n      <td>None</td>\n    </tr>\n    <tr>\n      <th>84</th>\n      <td>01cc7c75-4498-43ab-b650-5553d0507f76</td>\n      <td>[nan, nan, nan, nan]</td>\n      <td>[0.98, 524, 452, 244, 352, 0.98, 132, 348, 244...</td>\n      <td>[0.98, 0.98]</td>\n    </tr>\n    <tr>\n      <th>85</th>\n      <td>01cd2ba5-2baf-44b2-bf15-ee57e1ea4599</td>\n      <td>[664.0, 380.0, 141.0, 330.0]</td>\n      <td>[, ]</td>\n      <td>None</td>\n    </tr>\n    <tr>\n      <th>86</th>\n      <td>01cfa23b-cc98-43af-a61b-56915f90b7ef</td>\n      <td>[nan, nan, nan, nan]</td>\n      <td>[, ]</td>\n      <td>None</td>\n    </tr>\n    <tr>\n      <th>87</th>\n      <td>01d1f0be-5216-4af5-b2dc-a160c1c56122</td>\n      <td>[nan, nan, nan, nan]</td>\n      <td>[, ]</td>\n      <td>None</td>\n    </tr>\n    <tr>\n      <th>88</th>\n      <td>01d4fa0f-97a0-4522-b0d8-134400db2a3e</td>\n      <td>[222.0, 258.0, 194.0, 436.0, 570.0, 268.0, 249...</td>\n      <td>[, ]</td>\n      <td>None</td>\n    </tr>\n    <tr>\n      <th>89</th>\n      <td>01d72346-4459-4eaa-8a19-d3c92121d17f</td>\n      <td>[nan, nan, nan, nan]</td>\n      <td>[, ]</td>\n      <td>None</td>\n    </tr>\n    <tr>\n      <th>90</th>\n      <td>01dc817c-3cfa-49fe-8662-518edc30652a</td>\n      <td>[368.0, 677.0, 101.0, 139.0]</td>\n      <td>[0.97, 208, 332, 216, 248]</td>\n      <td>[0.97]</td>\n    </tr>\n    <tr>\n      <th>91</th>\n      <td>01e16ddb-682d-4901-b56d-8686c4f9f976</td>\n      <td>[nan, nan, nan, nan]</td>\n      <td>[0.96, 376, 340, 224, 440]</td>\n      <td>[0.96]</td>\n    </tr>\n    <tr>\n      <th>92</th>\n      <td>01e4fd43-4f2c-421f-bd68-c756dceb5742</td>\n      <td>[nan, nan, nan, nan]</td>\n      <td>[, ]</td>\n      <td>None</td>\n    </tr>\n    <tr>\n      <th>93</th>\n      <td>01e800d4-4d8d-4ef5-a40a-f37b923bb7ad</td>\n      <td>[nan, nan, nan, nan]</td>\n      <td>[0.98, 532, 492, 164, 176, 0.97, 192, 328, 196...</td>\n      <td>[0.98, 0.97]</td>\n    </tr>\n    <tr>\n      <th>94</th>\n      <td>01ee3bcb-d6a8-4586-b0a5-9647969da07d</td>\n      <td>[nan, nan, nan, nan]</td>\n      <td>[, ]</td>\n      <td>None</td>\n    </tr>\n    <tr>\n      <th>95</th>\n      <td>01ef1712-90a6-4946-ad86-fc76b0cf2d3b</td>\n      <td>[nan, nan, nan, nan]</td>\n      <td>[0.99, 212, 276, 236, 320, 0.97, 524, 192, 292...</td>\n      <td>[0.99, 0.97]</td>\n    </tr>\n    <tr>\n      <th>96</th>\n      <td>01ef449e-d493-4db2-9162-d83c69f90f40</td>\n      <td>[nan, nan, nan, nan]</td>\n      <td>[0.96, 544, 524, 188, 132]</td>\n      <td>[0.96]</td>\n    </tr>\n    <tr>\n      <th>97</th>\n      <td>01f0d9cc-f69e-471a-987a-be73a36e18cc</td>\n      <td>[nan, nan, nan, nan]</td>\n      <td>[0.99, 180, 336, 192, 232]</td>\n      <td>[0.99]</td>\n    </tr>\n    <tr>\n      <th>98</th>\n      <td>01f0f4bf-e678-430e-b43d-2968e2c4976c</td>\n      <td>[nan, nan, nan, nan]</td>\n      <td>[0.96, 288, 476, 180, 236]</td>\n      <td>[0.96]</td>\n    </tr>\n    <tr>\n      <th>99</th>\n      <td>01f11e57-5c11-4ab0-9312-d88c3826721c</td>\n      <td>[nan, nan, nan, nan]</td>\n      <td>[, ]</td>\n      <td>None</td>\n    </tr>\n  </tbody>\n</table>\n<p>100 rows × 4 columns</p>\n</div>"
          },
          "metadata": {}
        }
      ]
    },
    {
      "metadata": {
        "trusted": true,
        "_uuid": "1987a0f45da7cc3dc7231909f9cc5ec89429638f"
      },
      "cell_type": "code",
      "source": "def parse_bbox(x):\n    if len(x)!=2:\n        bbox = [int(x[k]) for k in range(0,len(x)) if k%5 != 0]\n        return np.asarray(bbox).reshape(int(len(bbox)/4),4)",
      "execution_count": 338,
      "outputs": []
    },
    {
      "metadata": {
        "trusted": true,
        "_uuid": "13ab0d07d0faf95fd6afe015eac13afbde5bb2db"
      },
      "cell_type": "code",
      "source": "df.loc[:, 'bbox_preds'] = df.loc[:, 'bbox_pred'].map(parse_bbox)",
      "execution_count": 339,
      "outputs": []
    },
    {
      "metadata": {
        "trusted": true,
        "scrolled": true,
        "_uuid": "ab34114c0ae4dcbbd50c6ee7b3d0f257fe09fe46"
      },
      "cell_type": "code",
      "source": "df.head()",
      "execution_count": 340,
      "outputs": [
        {
          "output_type": "execute_result",
          "execution_count": 340,
          "data": {
            "text/plain": "                              patientId                      ...                                                         bbox_preds\n0  0004cfab-14fd-4e49-80ba-63a80b6bddd6                      ...                       [[612, 372, 268, 416], [240, 568, 188, 184]]\n1  000924cf-0f8d-42bd-9158-1af53881a557                      ...                                                               None\n2  000db696-cf54-4385-b10b-6b16fbb3f985                      ...                                                               None\n3  000fe35a-2649-43d4-b027-e67796d412e0                      ...                                                               None\n4  001031d9-f904-4a23-b3e5-2c088acd19c6                      ...                                                               None\n\n[5 rows x 5 columns]",
            "text/html": "<div>\n<style scoped>\n    .dataframe tbody tr th:only-of-type {\n        vertical-align: middle;\n    }\n\n    .dataframe tbody tr th {\n        vertical-align: top;\n    }\n\n    .dataframe thead th {\n        text-align: right;\n    }\n</style>\n<table border=\"1\" class=\"dataframe\">\n  <thead>\n    <tr style=\"text-align: right;\">\n      <th></th>\n      <th>patientId</th>\n      <th>bbox_target</th>\n      <th>bbox_pred</th>\n      <th>bbox_scores</th>\n      <th>bbox_preds</th>\n    </tr>\n  </thead>\n  <tbody>\n    <tr>\n      <th>0</th>\n      <td>0004cfab-14fd-4e49-80ba-63a80b6bddd6</td>\n      <td>[nan, nan, nan, nan]</td>\n      <td>[0.97, 612, 372, 268, 416, 0.97, 240, 568, 188...</td>\n      <td>[0.97, 0.97]</td>\n      <td>[[612, 372, 268, 416], [240, 568, 188, 184]]</td>\n    </tr>\n    <tr>\n      <th>1</th>\n      <td>000924cf-0f8d-42bd-9158-1af53881a557</td>\n      <td>[nan, nan, nan, nan]</td>\n      <td>[, ]</td>\n      <td>None</td>\n      <td>None</td>\n    </tr>\n    <tr>\n      <th>2</th>\n      <td>000db696-cf54-4385-b10b-6b16fbb3f985</td>\n      <td>[316.0, 318.0, 170.0, 478.0, 660.0, 375.0, 146...</td>\n      <td>[, ]</td>\n      <td>None</td>\n      <td>None</td>\n    </tr>\n    <tr>\n      <th>3</th>\n      <td>000fe35a-2649-43d4-b027-e67796d412e0</td>\n      <td>[570.0, 282.0, 269.0, 409.0, 83.0, 227.0, 296....</td>\n      <td>[, ]</td>\n      <td>None</td>\n      <td>None</td>\n    </tr>\n    <tr>\n      <th>4</th>\n      <td>001031d9-f904-4a23-b3e5-2c088acd19c6</td>\n      <td>[66.0, 160.0, 373.0, 608.0, 552.0, 164.0, 376....</td>\n      <td>[, ]</td>\n      <td>None</td>\n      <td>None</td>\n    </tr>\n  </tbody>\n</table>\n</div>"
          },
          "metadata": {}
        }
      ]
    },
    {
      "metadata": {
        "trusted": true,
        "_uuid": "31e07d4f704af3a3e3b3a53cbda9f65b86891e80"
      },
      "cell_type": "code",
      "source": "df = df.drop(['bbox_pred'], axis=1)",
      "execution_count": 341,
      "outputs": []
    },
    {
      "metadata": {
        "trusted": true,
        "_uuid": "39e5eb8dc3dd75f6cc200fb132319df3b923bec7"
      },
      "cell_type": "code",
      "source": "df.head(20)",
      "execution_count": 342,
      "outputs": [
        {
          "output_type": "execute_result",
          "execution_count": 342,
          "data": {
            "text/plain": "                               patientId                      ...                                                         bbox_preds\n0   0004cfab-14fd-4e49-80ba-63a80b6bddd6                      ...                       [[612, 372, 268, 416], [240, 568, 188, 184]]\n1   000924cf-0f8d-42bd-9158-1af53881a557                      ...                                                               None\n2   000db696-cf54-4385-b10b-6b16fbb3f985                      ...                                                               None\n3   000fe35a-2649-43d4-b027-e67796d412e0                      ...                                                               None\n4   001031d9-f904-4a23-b3e5-2c088acd19c6                      ...                                                               None\n5   0010f549-b242-4e94-87a8-57d79de215fc                      ...                                                               None\n6   001916b8-3d30-4935-a5d1-8eaddb1646cd                      ...                                                               None\n7   0022073f-cec8-42ec-ab5f-bc2314649235                      ...                                                               None\n8   0022995a-45eb-4cfa-9a59-cd15f5196c64                      ...                                                               None\n9   0025d2de-bd78-4d36-9f72-e15a5e22ca82                      ...                                                               None\n10  00293de0-a530-41dc-9621-0b3def01d06d                      ...                                                               None\n11  002c591d-df62-4e34-8eda-838c664430a9                      ...                       [[208, 164, 208, 352], [568, 392, 184, 244]]\n12  002cb550-2e31-42f1-a29d-fbc279977e71                      ...                                                               None\n13  00313ee0-9eaa-42f4-b0ab-c148ed3241cd                      ...                                                               None\n14  00322d4d-1c29-4943-afc9-b6754be640eb                      ...                                             [[180, 392, 232, 176]]\n15  003d8fa0-6bf1-40ed-b54c-ac657f8495c5                      ...                                              [[324, 84, 208, 412]]\n16  00436515-870c-4b36-a041-de91049b9ab4                      ...                                                               None\n17  0049f7b2-229b-4a46-91a3-0e321a3ca80a                      ...                                                               None\n18  0053ee32-1e03-4dc2-a103-f46ad0448787                      ...                       [[612, 368, 232, 184], [212, 408, 208, 136]]\n19  00569f44-917d-4c86-a842-81832af98c30                      ...                                             [[164, 440, 220, 156]]\n\n[20 rows x 4 columns]",
            "text/html": "<div>\n<style scoped>\n    .dataframe tbody tr th:only-of-type {\n        vertical-align: middle;\n    }\n\n    .dataframe tbody tr th {\n        vertical-align: top;\n    }\n\n    .dataframe thead th {\n        text-align: right;\n    }\n</style>\n<table border=\"1\" class=\"dataframe\">\n  <thead>\n    <tr style=\"text-align: right;\">\n      <th></th>\n      <th>patientId</th>\n      <th>bbox_target</th>\n      <th>bbox_scores</th>\n      <th>bbox_preds</th>\n    </tr>\n  </thead>\n  <tbody>\n    <tr>\n      <th>0</th>\n      <td>0004cfab-14fd-4e49-80ba-63a80b6bddd6</td>\n      <td>[nan, nan, nan, nan]</td>\n      <td>[0.97, 0.97]</td>\n      <td>[[612, 372, 268, 416], [240, 568, 188, 184]]</td>\n    </tr>\n    <tr>\n      <th>1</th>\n      <td>000924cf-0f8d-42bd-9158-1af53881a557</td>\n      <td>[nan, nan, nan, nan]</td>\n      <td>None</td>\n      <td>None</td>\n    </tr>\n    <tr>\n      <th>2</th>\n      <td>000db696-cf54-4385-b10b-6b16fbb3f985</td>\n      <td>[316.0, 318.0, 170.0, 478.0, 660.0, 375.0, 146...</td>\n      <td>None</td>\n      <td>None</td>\n    </tr>\n    <tr>\n      <th>3</th>\n      <td>000fe35a-2649-43d4-b027-e67796d412e0</td>\n      <td>[570.0, 282.0, 269.0, 409.0, 83.0, 227.0, 296....</td>\n      <td>None</td>\n      <td>None</td>\n    </tr>\n    <tr>\n      <th>4</th>\n      <td>001031d9-f904-4a23-b3e5-2c088acd19c6</td>\n      <td>[66.0, 160.0, 373.0, 608.0, 552.0, 164.0, 376....</td>\n      <td>None</td>\n      <td>None</td>\n    </tr>\n    <tr>\n      <th>5</th>\n      <td>0010f549-b242-4e94-87a8-57d79de215fc</td>\n      <td>[nan, nan, nan, nan]</td>\n      <td>None</td>\n      <td>None</td>\n    </tr>\n    <tr>\n      <th>6</th>\n      <td>001916b8-3d30-4935-a5d1-8eaddb1646cd</td>\n      <td>[198.0, 375.0, 114.0, 206.0]</td>\n      <td>None</td>\n      <td>None</td>\n    </tr>\n    <tr>\n      <th>7</th>\n      <td>0022073f-cec8-42ec-ab5f-bc2314649235</td>\n      <td>[575.0, 232.0, 246.0, 528.0, 161.0, 230.0, 223...</td>\n      <td>None</td>\n      <td>None</td>\n    </tr>\n    <tr>\n      <th>8</th>\n      <td>0022995a-45eb-4cfa-9a59-cd15f5196c64</td>\n      <td>[nan, nan, nan, nan]</td>\n      <td>None</td>\n      <td>None</td>\n    </tr>\n    <tr>\n      <th>9</th>\n      <td>0025d2de-bd78-4d36-9f72-e15a5e22ca82</td>\n      <td>[nan, nan, nan, nan]</td>\n      <td>None</td>\n      <td>None</td>\n    </tr>\n    <tr>\n      <th>10</th>\n      <td>00293de0-a530-41dc-9621-0b3def01d06d</td>\n      <td>[nan, nan, nan, nan]</td>\n      <td>None</td>\n      <td>None</td>\n    </tr>\n    <tr>\n      <th>11</th>\n      <td>002c591d-df62-4e34-8eda-838c664430a9</td>\n      <td>[nan, nan, nan, nan]</td>\n      <td>[0.98, 0.96]</td>\n      <td>[[208, 164, 208, 352], [568, 392, 184, 244]]</td>\n    </tr>\n    <tr>\n      <th>12</th>\n      <td>002cb550-2e31-42f1-a29d-fbc279977e71</td>\n      <td>[176.0, 342.0, 170.0, 239.0, 515.0, 333.0, 167...</td>\n      <td>None</td>\n      <td>None</td>\n    </tr>\n    <tr>\n      <th>13</th>\n      <td>00313ee0-9eaa-42f4-b0ab-c148ed3241cd</td>\n      <td>[nan, nan, nan, nan]</td>\n      <td>None</td>\n      <td>None</td>\n    </tr>\n    <tr>\n      <th>14</th>\n      <td>00322d4d-1c29-4943-afc9-b6754be640eb</td>\n      <td>[nan, nan, nan, nan]</td>\n      <td>[0.96]</td>\n      <td>[[180, 392, 232, 176]]</td>\n    </tr>\n    <tr>\n      <th>15</th>\n      <td>003d8fa0-6bf1-40ed-b54c-ac657f8495c5</td>\n      <td>[nan, nan, nan, nan]</td>\n      <td>[0.95]</td>\n      <td>[[324, 84, 208, 412]]</td>\n    </tr>\n    <tr>\n      <th>16</th>\n      <td>00436515-870c-4b36-a041-de91049b9ab4</td>\n      <td>[264.0, 152.0, 213.0, 379.0, 562.0, 152.0, 256...</td>\n      <td>None</td>\n      <td>None</td>\n    </tr>\n    <tr>\n      <th>17</th>\n      <td>0049f7b2-229b-4a46-91a3-0e321a3ca80a</td>\n      <td>[nan, nan, nan, nan]</td>\n      <td>None</td>\n      <td>None</td>\n    </tr>\n    <tr>\n      <th>18</th>\n      <td>0053ee32-1e03-4dc2-a103-f46ad0448787</td>\n      <td>[nan, nan, nan, nan]</td>\n      <td>[0.98, 0.96]</td>\n      <td>[[612, 368, 232, 184], [212, 408, 208, 136]]</td>\n    </tr>\n    <tr>\n      <th>19</th>\n      <td>00569f44-917d-4c86-a842-81832af98c30</td>\n      <td>[nan, nan, nan, nan]</td>\n      <td>[0.98]</td>\n      <td>[[164, 440, 220, 156]]</td>\n    </tr>\n  </tbody>\n</table>\n</div>"
          },
          "metadata": {}
        }
      ]
    },
    {
      "metadata": {
        "trusted": true,
        "_uuid": "08572b5470a1eb49fb28b4ff3b5804699f31b608"
      },
      "cell_type": "code",
      "source": "df.loc[df['bbox_scores'].isnull(),['bbox_scores']] = df.loc[df['bbox_scores'].isnull(),'bbox_scores'].apply(lambda x: np.asarray([]))",
      "execution_count": 343,
      "outputs": []
    },
    {
      "metadata": {
        "trusted": true,
        "_uuid": "bc86c6e49634678be15aff084255fce7602c60c6"
      },
      "cell_type": "code",
      "source": "df.head()",
      "execution_count": 344,
      "outputs": [
        {
          "output_type": "execute_result",
          "execution_count": 344,
          "data": {
            "text/plain": "                              patientId                      ...                                                         bbox_preds\n0  0004cfab-14fd-4e49-80ba-63a80b6bddd6                      ...                       [[612, 372, 268, 416], [240, 568, 188, 184]]\n1  000924cf-0f8d-42bd-9158-1af53881a557                      ...                                                               None\n2  000db696-cf54-4385-b10b-6b16fbb3f985                      ...                                                               None\n3  000fe35a-2649-43d4-b027-e67796d412e0                      ...                                                               None\n4  001031d9-f904-4a23-b3e5-2c088acd19c6                      ...                                                               None\n\n[5 rows x 4 columns]",
            "text/html": "<div>\n<style scoped>\n    .dataframe tbody tr th:only-of-type {\n        vertical-align: middle;\n    }\n\n    .dataframe tbody tr th {\n        vertical-align: top;\n    }\n\n    .dataframe thead th {\n        text-align: right;\n    }\n</style>\n<table border=\"1\" class=\"dataframe\">\n  <thead>\n    <tr style=\"text-align: right;\">\n      <th></th>\n      <th>patientId</th>\n      <th>bbox_target</th>\n      <th>bbox_scores</th>\n      <th>bbox_preds</th>\n    </tr>\n  </thead>\n  <tbody>\n    <tr>\n      <th>0</th>\n      <td>0004cfab-14fd-4e49-80ba-63a80b6bddd6</td>\n      <td>[nan, nan, nan, nan]</td>\n      <td>[0.97, 0.97]</td>\n      <td>[[612, 372, 268, 416], [240, 568, 188, 184]]</td>\n    </tr>\n    <tr>\n      <th>1</th>\n      <td>000924cf-0f8d-42bd-9158-1af53881a557</td>\n      <td>[nan, nan, nan, nan]</td>\n      <td>[]</td>\n      <td>None</td>\n    </tr>\n    <tr>\n      <th>2</th>\n      <td>000db696-cf54-4385-b10b-6b16fbb3f985</td>\n      <td>[316.0, 318.0, 170.0, 478.0, 660.0, 375.0, 146...</td>\n      <td>[]</td>\n      <td>None</td>\n    </tr>\n    <tr>\n      <th>3</th>\n      <td>000fe35a-2649-43d4-b027-e67796d412e0</td>\n      <td>[570.0, 282.0, 269.0, 409.0, 83.0, 227.0, 296....</td>\n      <td>[]</td>\n      <td>None</td>\n    </tr>\n    <tr>\n      <th>4</th>\n      <td>001031d9-f904-4a23-b3e5-2c088acd19c6</td>\n      <td>[66.0, 160.0, 373.0, 608.0, 552.0, 164.0, 376....</td>\n      <td>[]</td>\n      <td>None</td>\n    </tr>\n  </tbody>\n</table>\n</div>"
          },
          "metadata": {}
        }
      ]
    },
    {
      "metadata": {
        "trusted": true,
        "_uuid": "2d22ea69b2571c72ea689bcc4b2a0d3be7130a66"
      },
      "cell_type": "code",
      "source": "df.loc[df['bbox_preds'].isnull(),['bbox_preds']] = df.loc[df['bbox_preds'].isnull(),'bbox_preds'].apply(lambda x: np.asarray([]))",
      "execution_count": 345,
      "outputs": []
    },
    {
      "metadata": {
        "trusted": true,
        "_uuid": "0bc290233e93fc067f7817506711e8e3d63829fb"
      },
      "cell_type": "code",
      "source": "df.head()",
      "execution_count": 346,
      "outputs": [
        {
          "output_type": "execute_result",
          "execution_count": 346,
          "data": {
            "text/plain": "                              patientId                      ...                                                         bbox_preds\n0  0004cfab-14fd-4e49-80ba-63a80b6bddd6                      ...                       [[612, 372, 268, 416], [240, 568, 188, 184]]\n1  000924cf-0f8d-42bd-9158-1af53881a557                      ...                                                                 []\n2  000db696-cf54-4385-b10b-6b16fbb3f985                      ...                                                                 []\n3  000fe35a-2649-43d4-b027-e67796d412e0                      ...                                                                 []\n4  001031d9-f904-4a23-b3e5-2c088acd19c6                      ...                                                                 []\n\n[5 rows x 4 columns]",
            "text/html": "<div>\n<style scoped>\n    .dataframe tbody tr th:only-of-type {\n        vertical-align: middle;\n    }\n\n    .dataframe tbody tr th {\n        vertical-align: top;\n    }\n\n    .dataframe thead th {\n        text-align: right;\n    }\n</style>\n<table border=\"1\" class=\"dataframe\">\n  <thead>\n    <tr style=\"text-align: right;\">\n      <th></th>\n      <th>patientId</th>\n      <th>bbox_target</th>\n      <th>bbox_scores</th>\n      <th>bbox_preds</th>\n    </tr>\n  </thead>\n  <tbody>\n    <tr>\n      <th>0</th>\n      <td>0004cfab-14fd-4e49-80ba-63a80b6bddd6</td>\n      <td>[nan, nan, nan, nan]</td>\n      <td>[0.97, 0.97]</td>\n      <td>[[612, 372, 268, 416], [240, 568, 188, 184]]</td>\n    </tr>\n    <tr>\n      <th>1</th>\n      <td>000924cf-0f8d-42bd-9158-1af53881a557</td>\n      <td>[nan, nan, nan, nan]</td>\n      <td>[]</td>\n      <td>[]</td>\n    </tr>\n    <tr>\n      <th>2</th>\n      <td>000db696-cf54-4385-b10b-6b16fbb3f985</td>\n      <td>[316.0, 318.0, 170.0, 478.0, 660.0, 375.0, 146...</td>\n      <td>[]</td>\n      <td>[]</td>\n    </tr>\n    <tr>\n      <th>3</th>\n      <td>000fe35a-2649-43d4-b027-e67796d412e0</td>\n      <td>[570.0, 282.0, 269.0, 409.0, 83.0, 227.0, 296....</td>\n      <td>[]</td>\n      <td>[]</td>\n    </tr>\n    <tr>\n      <th>4</th>\n      <td>001031d9-f904-4a23-b3e5-2c088acd19c6</td>\n      <td>[66.0, 160.0, 373.0, 608.0, 552.0, 164.0, 376....</td>\n      <td>[]</td>\n      <td>[]</td>\n    </tr>\n  </tbody>\n</table>\n</div>"
          },
          "metadata": {}
        }
      ]
    },
    {
      "metadata": {
        "trusted": true,
        "_uuid": "1452157034c4ebed639be8b3e78ad8e62cabf080"
      },
      "cell_type": "code",
      "source": "def parse_target_str(x):\n    if x[0] != 'nan':\n        bbox = np.asarray([int(float(x[k])) for k in range(0,len(x))])\n        return bbox.reshape(int(len(bbox)/4),4)",
      "execution_count": 347,
      "outputs": []
    },
    {
      "metadata": {
        "trusted": true,
        "_uuid": "94b8b7bca1ee10a8d1b6860ea725075018f6bde0"
      },
      "cell_type": "code",
      "source": "df.loc[:,'bbox_target'] = df.loc[:,'bbox_target'].map(parse_target_str)",
      "execution_count": 348,
      "outputs": []
    },
    {
      "metadata": {
        "trusted": true,
        "_uuid": "34f9799b0e2095fd7db7b21ab960ba912df718cf"
      },
      "cell_type": "code",
      "source": "df.loc[df['bbox_target'].isnull(),['bbox_target']] = df.loc[df['bbox_target'].isnull(),'bbox_target'].apply(lambda x: np.asarray([]))",
      "execution_count": 349,
      "outputs": []
    },
    {
      "metadata": {
        "trusted": true,
        "_uuid": "d8aa8a3a9d66986052af5fb870aa27285f8d882b"
      },
      "cell_type": "code",
      "source": "df.head()",
      "execution_count": 350,
      "outputs": [
        {
          "output_type": "execute_result",
          "execution_count": 350,
          "data": {
            "text/plain": "                              patientId                      ...                                                         bbox_preds\n0  0004cfab-14fd-4e49-80ba-63a80b6bddd6                      ...                       [[612, 372, 268, 416], [240, 568, 188, 184]]\n1  000924cf-0f8d-42bd-9158-1af53881a557                      ...                                                                 []\n2  000db696-cf54-4385-b10b-6b16fbb3f985                      ...                                                                 []\n3  000fe35a-2649-43d4-b027-e67796d412e0                      ...                                                                 []\n4  001031d9-f904-4a23-b3e5-2c088acd19c6                      ...                                                                 []\n\n[5 rows x 4 columns]",
            "text/html": "<div>\n<style scoped>\n    .dataframe tbody tr th:only-of-type {\n        vertical-align: middle;\n    }\n\n    .dataframe tbody tr th {\n        vertical-align: top;\n    }\n\n    .dataframe thead th {\n        text-align: right;\n    }\n</style>\n<table border=\"1\" class=\"dataframe\">\n  <thead>\n    <tr style=\"text-align: right;\">\n      <th></th>\n      <th>patientId</th>\n      <th>bbox_target</th>\n      <th>bbox_scores</th>\n      <th>bbox_preds</th>\n    </tr>\n  </thead>\n  <tbody>\n    <tr>\n      <th>0</th>\n      <td>0004cfab-14fd-4e49-80ba-63a80b6bddd6</td>\n      <td>[]</td>\n      <td>[0.97, 0.97]</td>\n      <td>[[612, 372, 268, 416], [240, 568, 188, 184]]</td>\n    </tr>\n    <tr>\n      <th>1</th>\n      <td>000924cf-0f8d-42bd-9158-1af53881a557</td>\n      <td>[]</td>\n      <td>[]</td>\n      <td>[]</td>\n    </tr>\n    <tr>\n      <th>2</th>\n      <td>000db696-cf54-4385-b10b-6b16fbb3f985</td>\n      <td>[[316, 318, 170, 478], [660, 375, 146, 402]]</td>\n      <td>[]</td>\n      <td>[]</td>\n    </tr>\n    <tr>\n      <th>3</th>\n      <td>000fe35a-2649-43d4-b027-e67796d412e0</td>\n      <td>[[570, 282, 269, 409], [83, 227, 296, 438]]</td>\n      <td>[]</td>\n      <td>[]</td>\n    </tr>\n    <tr>\n      <th>4</th>\n      <td>001031d9-f904-4a23-b3e5-2c088acd19c6</td>\n      <td>[[66, 160, 373, 608], [552, 164, 376, 676]]</td>\n      <td>[]</td>\n      <td>[]</td>\n    </tr>\n  </tbody>\n</table>\n</div>"
          },
          "metadata": {}
        }
      ]
    },
    {
      "metadata": {
        "trusted": true,
        "_uuid": "bd131d580ae32eb2dd2c74116401869146b435b5"
      },
      "cell_type": "code",
      "source": "# helper function to calculate IoU\ndef iou(box1, box2):\n    x11, y11, w1, h1 = box1\n    x21, y21, w2, h2 = box2\n    assert w1 * h1 > 0\n    assert w2 * h2 > 0\n    x12, y12 = x11 + w1, y11 + h1\n    x22, y22 = x21 + w2, y21 + h2\n\n    area1, area2 = w1 * h1, w2 * h2\n    xi1, yi1, xi2, yi2 = max([x11, x21]), max([y11, y21]), min([x12, x22]), min([y12, y22])\n    \n    if xi2 <= xi1 or yi2 <= yi1:\n        return 0\n    else:\n        intersect = (xi2-xi1) * (yi2-yi1)\n        union = area1 + area2 - intersect\n        return intersect / union",
      "execution_count": 351,
      "outputs": []
    },
    {
      "metadata": {
        "trusted": true,
        "_uuid": "757a0b986b7788cf7b6e449e27effe459f4ed86d"
      },
      "cell_type": "code",
      "source": "def map_iou(boxes_true, boxes_pred, scores, thresholds = [0.4, 0.45, 0.5, 0.55, 0.6, 0.65, 0.7, 0.75]):\n    \"\"\"\n    Mean average precision at differnet intersection over union (IoU) threshold\n    \n    input:\n        boxes_true: Mx4 numpy array of ground true bounding boxes of one image. \n                    bbox format: (x1, y1, w, h)\n        boxes_pred: Nx4 numpy array of predicted bounding boxes of one image. \n                    bbox format: (x1, y1, w, h)\n        scores:     length N numpy array of scores associated with predicted bboxes\n        thresholds: IoU shresholds to evaluate mean average precision on\n    output: \n        map: mean average precision of the image\n    \"\"\"\n    \n    # According to the introduction, images with no ground truth bboxes will not be \n    # included in the map score unless there is a false positive detection (?)\n        \n    # return None if both are empty, don't count the image in final evaluation (?)\n    if len(boxes_true) == 0 and len(boxes_pred) == 0:\n        return None\n    elif len(boxes_true) == 0 and len(boxes_pred) > 0:\n        return 0\n    elif len(boxes_true) > 0 and len(boxes_pred) == 0:\n        return 0\n    elif len(boxes_true) > 0 and len(boxes_pred) > 0:\n        assert boxes_true.shape[1] == 4 or boxes_pred.shape[1] == 4, \"boxes should be 2D arrays with shape[1]=4\"\n        if len(boxes_pred):\n            assert len(scores) == len(boxes_pred), \"boxes_pred and scores should be same length\"\n            # sort boxes_pred by scores in decreasing order\n            boxes_pred = boxes_pred[np.argsort(scores)[::-1], :]\n\n        map_total = 0\n\n        # loop over thresholds\n        for t in thresholds:\n            matched_bt = set()\n            tp, fn = 0, 0\n            for i, bt in enumerate(boxes_true):\n                matched = False\n                for j, bp in enumerate(boxes_pred):\n                    miou = iou(bt, bp)\n                    if miou >= t and not matched and j not in matched_bt:\n                        matched = True\n                        tp += 1 # bt is matched for the first time, count as TP\n                        matched_bt.add(j)\n                if not matched:\n                    fn += 1 # bt has no match, count as FN\n\n            fp = len(boxes_pred) - len(matched_bt) # FP is the bp that not matched to any bt\n            m = tp / (tp + fn + fp)\n            map_total += m\n    \n    return map_total / len(thresholds)",
      "execution_count": 352,
      "outputs": []
    },
    {
      "metadata": {
        "trusted": true,
        "scrolled": true,
        "_uuid": "b47a73f99b73b5fb436341e04918f1a31e36c973"
      },
      "cell_type": "code",
      "source": "df.head(20)",
      "execution_count": 353,
      "outputs": [
        {
          "output_type": "execute_result",
          "execution_count": 353,
          "data": {
            "text/plain": "                               patientId                      ...                                                         bbox_preds\n0   0004cfab-14fd-4e49-80ba-63a80b6bddd6                      ...                       [[612, 372, 268, 416], [240, 568, 188, 184]]\n1   000924cf-0f8d-42bd-9158-1af53881a557                      ...                                                                 []\n2   000db696-cf54-4385-b10b-6b16fbb3f985                      ...                                                                 []\n3   000fe35a-2649-43d4-b027-e67796d412e0                      ...                                                                 []\n4   001031d9-f904-4a23-b3e5-2c088acd19c6                      ...                                                                 []\n5   0010f549-b242-4e94-87a8-57d79de215fc                      ...                                                                 []\n6   001916b8-3d30-4935-a5d1-8eaddb1646cd                      ...                                                                 []\n7   0022073f-cec8-42ec-ab5f-bc2314649235                      ...                                                                 []\n8   0022995a-45eb-4cfa-9a59-cd15f5196c64                      ...                                                                 []\n9   0025d2de-bd78-4d36-9f72-e15a5e22ca82                      ...                                                                 []\n10  00293de0-a530-41dc-9621-0b3def01d06d                      ...                                                                 []\n11  002c591d-df62-4e34-8eda-838c664430a9                      ...                       [[208, 164, 208, 352], [568, 392, 184, 244]]\n12  002cb550-2e31-42f1-a29d-fbc279977e71                      ...                                                                 []\n13  00313ee0-9eaa-42f4-b0ab-c148ed3241cd                      ...                                                                 []\n14  00322d4d-1c29-4943-afc9-b6754be640eb                      ...                                             [[180, 392, 232, 176]]\n15  003d8fa0-6bf1-40ed-b54c-ac657f8495c5                      ...                                              [[324, 84, 208, 412]]\n16  00436515-870c-4b36-a041-de91049b9ab4                      ...                                                                 []\n17  0049f7b2-229b-4a46-91a3-0e321a3ca80a                      ...                                                                 []\n18  0053ee32-1e03-4dc2-a103-f46ad0448787                      ...                       [[612, 368, 232, 184], [212, 408, 208, 136]]\n19  00569f44-917d-4c86-a842-81832af98c30                      ...                                             [[164, 440, 220, 156]]\n\n[20 rows x 4 columns]",
            "text/html": "<div>\n<style scoped>\n    .dataframe tbody tr th:only-of-type {\n        vertical-align: middle;\n    }\n\n    .dataframe tbody tr th {\n        vertical-align: top;\n    }\n\n    .dataframe thead th {\n        text-align: right;\n    }\n</style>\n<table border=\"1\" class=\"dataframe\">\n  <thead>\n    <tr style=\"text-align: right;\">\n      <th></th>\n      <th>patientId</th>\n      <th>bbox_target</th>\n      <th>bbox_scores</th>\n      <th>bbox_preds</th>\n    </tr>\n  </thead>\n  <tbody>\n    <tr>\n      <th>0</th>\n      <td>0004cfab-14fd-4e49-80ba-63a80b6bddd6</td>\n      <td>[]</td>\n      <td>[0.97, 0.97]</td>\n      <td>[[612, 372, 268, 416], [240, 568, 188, 184]]</td>\n    </tr>\n    <tr>\n      <th>1</th>\n      <td>000924cf-0f8d-42bd-9158-1af53881a557</td>\n      <td>[]</td>\n      <td>[]</td>\n      <td>[]</td>\n    </tr>\n    <tr>\n      <th>2</th>\n      <td>000db696-cf54-4385-b10b-6b16fbb3f985</td>\n      <td>[[316, 318, 170, 478], [660, 375, 146, 402]]</td>\n      <td>[]</td>\n      <td>[]</td>\n    </tr>\n    <tr>\n      <th>3</th>\n      <td>000fe35a-2649-43d4-b027-e67796d412e0</td>\n      <td>[[570, 282, 269, 409], [83, 227, 296, 438]]</td>\n      <td>[]</td>\n      <td>[]</td>\n    </tr>\n    <tr>\n      <th>4</th>\n      <td>001031d9-f904-4a23-b3e5-2c088acd19c6</td>\n      <td>[[66, 160, 373, 608], [552, 164, 376, 676]]</td>\n      <td>[]</td>\n      <td>[]</td>\n    </tr>\n    <tr>\n      <th>5</th>\n      <td>0010f549-b242-4e94-87a8-57d79de215fc</td>\n      <td>[]</td>\n      <td>[]</td>\n      <td>[]</td>\n    </tr>\n    <tr>\n      <th>6</th>\n      <td>001916b8-3d30-4935-a5d1-8eaddb1646cd</td>\n      <td>[[198, 375, 114, 206]]</td>\n      <td>[]</td>\n      <td>[]</td>\n    </tr>\n    <tr>\n      <th>7</th>\n      <td>0022073f-cec8-42ec-ab5f-bc2314649235</td>\n      <td>[[575, 232, 246, 528], [161, 230, 223, 486]]</td>\n      <td>[]</td>\n      <td>[]</td>\n    </tr>\n    <tr>\n      <th>8</th>\n      <td>0022995a-45eb-4cfa-9a59-cd15f5196c64</td>\n      <td>[]</td>\n      <td>[]</td>\n      <td>[]</td>\n    </tr>\n    <tr>\n      <th>9</th>\n      <td>0025d2de-bd78-4d36-9f72-e15a5e22ca82</td>\n      <td>[]</td>\n      <td>[]</td>\n      <td>[]</td>\n    </tr>\n    <tr>\n      <th>10</th>\n      <td>00293de0-a530-41dc-9621-0b3def01d06d</td>\n      <td>[]</td>\n      <td>[]</td>\n      <td>[]</td>\n    </tr>\n    <tr>\n      <th>11</th>\n      <td>002c591d-df62-4e34-8eda-838c664430a9</td>\n      <td>[]</td>\n      <td>[0.98, 0.96]</td>\n      <td>[[208, 164, 208, 352], [568, 392, 184, 244]]</td>\n    </tr>\n    <tr>\n      <th>12</th>\n      <td>002cb550-2e31-42f1-a29d-fbc279977e71</td>\n      <td>[[176, 342, 170, 239], [515, 333, 167, 251]]</td>\n      <td>[]</td>\n      <td>[]</td>\n    </tr>\n    <tr>\n      <th>13</th>\n      <td>00313ee0-9eaa-42f4-b0ab-c148ed3241cd</td>\n      <td>[]</td>\n      <td>[]</td>\n      <td>[]</td>\n    </tr>\n    <tr>\n      <th>14</th>\n      <td>00322d4d-1c29-4943-afc9-b6754be640eb</td>\n      <td>[]</td>\n      <td>[0.96]</td>\n      <td>[[180, 392, 232, 176]]</td>\n    </tr>\n    <tr>\n      <th>15</th>\n      <td>003d8fa0-6bf1-40ed-b54c-ac657f8495c5</td>\n      <td>[]</td>\n      <td>[0.95]</td>\n      <td>[[324, 84, 208, 412]]</td>\n    </tr>\n    <tr>\n      <th>16</th>\n      <td>00436515-870c-4b36-a041-de91049b9ab4</td>\n      <td>[[264, 152, 213, 379], [562, 152, 256, 453]]</td>\n      <td>[]</td>\n      <td>[]</td>\n    </tr>\n    <tr>\n      <th>17</th>\n      <td>0049f7b2-229b-4a46-91a3-0e321a3ca80a</td>\n      <td>[]</td>\n      <td>[]</td>\n      <td>[]</td>\n    </tr>\n    <tr>\n      <th>18</th>\n      <td>0053ee32-1e03-4dc2-a103-f46ad0448787</td>\n      <td>[]</td>\n      <td>[0.98, 0.96]</td>\n      <td>[[612, 368, 232, 184], [212, 408, 208, 136]]</td>\n    </tr>\n    <tr>\n      <th>19</th>\n      <td>00569f44-917d-4c86-a842-81832af98c30</td>\n      <td>[]</td>\n      <td>[0.98]</td>\n      <td>[[164, 440, 220, 156]]</td>\n    </tr>\n  </tbody>\n</table>\n</div>"
          },
          "metadata": {}
        }
      ]
    },
    {
      "metadata": {
        "trusted": true,
        "_uuid": "3284dc1b54ab23c299526c72e455af1967e4f388"
      },
      "cell_type": "code",
      "source": "for row in range(10):\n    print(map_iou(df['bbox_target'][row], df['bbox_preds'][row], df['bbox_scores'][row]))",
      "execution_count": 354,
      "outputs": [
        {
          "output_type": "stream",
          "text": "0\nNone\n0\n0\n0\nNone\n0\n0\nNone\nNone\n",
          "name": "stdout"
        }
      ]
    },
    {
      "metadata": {
        "trusted": true,
        "_uuid": "acba64d66c986f8329eb3b92c42cca98ab95cde0"
      },
      "cell_type": "code",
      "source": "map_scores = [x for x in [map_iou(df['bbox_target'][row], df['bbox_preds'][row], df['bbox_scores'][row]) for row in range(len(df))] if x is not None]",
      "execution_count": null,
      "outputs": []
    },
    {
      "metadata": {
        "trusted": true,
        "_uuid": "efb67073684e9f39ab3ec611731c151b4cc79cb2"
      },
      "cell_type": "code",
      "source": "np.mean(map_scores)",
      "execution_count": null,
      "outputs": []
    }
  ],
  "metadata": {
    "kernelspec": {
      "display_name": "Python 3",
      "language": "python",
      "name": "python3"
    },
    "language_info": {
      "name": "python",
      "version": "3.6.6",
      "mimetype": "text/x-python",
      "codemirror_mode": {
        "name": "ipython",
        "version": 3
      },
      "pygments_lexer": "ipython3",
      "nbconvert_exporter": "python",
      "file_extension": ".py"
    }
  },
  "nbformat": 4,
  "nbformat_minor": 1
}