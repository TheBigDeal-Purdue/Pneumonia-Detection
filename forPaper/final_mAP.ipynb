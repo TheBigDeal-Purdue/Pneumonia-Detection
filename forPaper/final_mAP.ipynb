{
 "cells": [
  {
   "cell_type": "markdown",
   "metadata": {
    "_uuid": "8a71656549d8f0e0e581d4edc7446507c231cfcb"
   },
   "source": [
    "**mAP_Second_Try**"
   ]
  },
  {
   "cell_type": "markdown",
   "metadata": {
    "_uuid": "5d3e68e1c79b6822731aaeea24ad1a7435716a59"
   },
   "source": [
    "대회의 메트릭과 매우 유사한 mAP를 이용하여 score를 계산해보자."
   ]
  },
  {
   "cell_type": "code",
   "execution_count": null,
   "metadata": {
    "_cell_guid": "b1076dfc-b9ad-4769-8c92-a6c4dae69d19",
    "_uuid": "8f2839f25d086af736a60e9eeb907d3b93b6e0e5"
   },
   "outputs": [],
   "source": [
    "import numpy as np\n",
    "import pandas as pd"
   ]
  },
  {
   "cell_type": "markdown",
   "metadata": {
    "_uuid": "1aed3426605178217d052ff63f07b1e2cd19959d"
   },
   "source": [
    "우리가 예측(Prediction)한 submission 파일을 불러온다."
   ]
  },
  {
   "cell_type": "code",
   "execution_count": null,
   "metadata": {
    "_cell_guid": "79c7e3d0-c299-4dcb-8224-4455121ee9b0",
    "_uuid": "d629ff2d2480ee46fbb7e2d37f6b5fab8052498a"
   },
   "outputs": [],
   "source": [
    "oof_preds0 = pd.read_csv('./root_dir/submission.csv')"
   ]
  },
  {
   "cell_type": "code",
   "execution_count": null,
   "metadata": {
    "_uuid": "f1e06ea343342a88089eb7177ba9b6dc948477b8",
    "scrolled": true
   },
   "outputs": [],
   "source": [
    "oof_preds0.head(10)"
   ]
  },
  {
   "cell_type": "markdown",
   "metadata": {
    "_uuid": "156c60550c3fd9c64866fdd5720a2d9c0fa09957"
   },
   "source": [
    "우리가 예측한 것의 정답인, label이 붙어 있는 정답지를 불러온다."
   ]
  },
  {
   "cell_type": "code",
   "execution_count": null,
   "metadata": {
    "_uuid": "1e9178474163f5d045b0ff297d46141577292652"
   },
   "outputs": [],
   "source": [
    "df = pd.read_csv('./input/testing_file_20181205.csv')\n",
    "df.head()"
   ]
  },
  {
   "cell_type": "code",
   "execution_count": null,
   "metadata": {
    "_uuid": "0c27520b0d89f40944a64a9fcf3150e57bae9015",
    "scrolled": true
   },
   "outputs": [],
   "source": [
    "df.head(10)"
   ]
  },
  {
   "cell_type": "markdown",
   "metadata": {
    "_uuid": "c97f9d9667fa0c989c2f3d0dbb8e1ef08b577282"
   },
   "source": [
    "1. Csv 파일 Parsing"
   ]
  },
  {
   "cell_type": "markdown",
   "metadata": {
    "_uuid": "a7e11bd0bddce7a4780878a3cfa2ddf2afb04987"
   },
   "source": [
    "     (1) 정답지에 bbox_target이라는 열을 만들어서, x, y, w, h로 흩어져 있던 열들을 합친다."
   ]
  },
  {
   "cell_type": "code",
   "execution_count": null,
   "metadata": {
    "_uuid": "e886d1f1fc76eafc7fa00c1d350ff213412bcf4d"
   },
   "outputs": [],
   "source": [
    "df['bbox_target'] = (df['x'].astype(str) +\n",
    "                    ' ' + \n",
    "                    df['y'].astype(str) +\n",
    "                    ' ' +\n",
    "                    df['width'].astype(str) +\n",
    "                    ' ' +\n",
    "                    df['height'].astype(str))"
   ]
  },
  {
   "cell_type": "code",
   "execution_count": null,
   "metadata": {
    "_uuid": "5e6290f07dedfc2790bee6622a592efc381a56b7"
   },
   "outputs": [],
   "source": [
    "df.loc[:, 'bbox_target'] = df.loc[:, 'bbox_target'].map(lambda x: x.split(' '))"
   ]
  },
  {
   "cell_type": "code",
   "execution_count": null,
   "metadata": {
    "_uuid": "72900e499a0efc304837eb76549fa0a7321a83c5",
    "scrolled": false
   },
   "outputs": [],
   "source": [
    "df.head(10)"
   ]
  },
  {
   "cell_type": "markdown",
   "metadata": {
    "_uuid": "bd100e515c57959822296c3ba9c1764f20e85fd3"
   },
   "source": [
    "     (2) patientId와 bbox_target만 남긴 행열을 만든다. "
   ]
  },
  {
   "cell_type": "code",
   "execution_count": null,
   "metadata": {
    "_uuid": "0f83858672dc5b3d5d47a9bc512ee5578c878a4f"
   },
   "outputs": [],
   "source": [
    "df = df.groupby(['patientId'], as_index = False)['bbox_target'].agg('sum')  "
   ]
  },
  {
   "cell_type": "code",
   "execution_count": null,
   "metadata": {
    "_uuid": "69b784f7d658927cf33dee2153595b537b7676f5",
    "scrolled": false
   },
   "outputs": [],
   "source": [
    "df.head(10)"
   ]
  },
  {
   "cell_type": "markdown",
   "metadata": {
    "_uuid": "4726d02058efa653f169aa6210fb8cd8d1425637"
   },
   "source": [
    "     (3) 우리의 예측 값인 PredictionString을 정답지 파일에 merge 하여 bbox_pred 열로 만든다."
   ]
  },
  {
   "cell_type": "code",
   "execution_count": null,
   "metadata": {
    "_uuid": "4141aa24d38ea1ef4f6920a68a6c945f3e7d6126"
   },
   "outputs": [],
   "source": [
    "df = df.merge(oof_preds0, on = 'patientId', how = 'right') # modify left or right"
   ]
  },
  {
   "cell_type": "code",
   "execution_count": null,
   "metadata": {
    "_uuid": "570955fd204ba15c7fff1539b7d2c6e50e3a795e"
   },
   "outputs": [],
   "source": [
    "df = df.fillna('')\n",
    "df.head(10)"
   ]
  },
  {
   "cell_type": "code",
   "execution_count": null,
   "metadata": {
    "_uuid": "f50eb5616dd3c078aa4c76338305b98e3d02f9df",
    "scrolled": true
   },
   "outputs": [],
   "source": [
    "df.loc[:, 'bbox_pred'] = (oof_preds0.loc[:, 'PredictionString']) \n",
    "#원래의 코드에서 바꾼 부분.\n",
    "#원래의 코드는 우리가 예측한 csv 값을 df의 prediction String열에 머지한 후 df의 bbox_pred에 넣는 거였다.\n",
    "#수정한 코드는 우리가 예측한 csv 값을 바로 df의 bbox_pred에 넣는 것이므로 사실상 같은 코드이다!\n",
    "df.head(10)"
   ]
  },
  {
   "cell_type": "code",
   "execution_count": null,
   "metadata": {
    "_uuid": "c2985f52b11d8a4e5bceb1f26e2526ec6ceb4537"
   },
   "outputs": [],
   "source": [
    "df = df.drop(['PredictionString'], axis=1)\n",
    "df.head(10)"
   ]
  },
  {
   "cell_type": "markdown",
   "metadata": {
    "_uuid": "87ed58d5f406cc5773e0af74c6cc7d678ee11914"
   },
   "source": [
    "     (4) bbox_pred 열의 값들을, 이용하기 좋게 파싱한다. (띄어쓰기 된 것을 ','로 나누도록 한다.)"
   ]
  },
  {
   "cell_type": "code",
   "execution_count": null,
   "metadata": {
    "_uuid": "4202293bdb677d876c65949a62c919276ae71938"
   },
   "outputs": [],
   "source": [
    "df.loc[:, 'bbox_pred'] = df.loc[:, 'bbox_pred'].str.strip()"
   ]
  },
  {
   "cell_type": "code",
   "execution_count": null,
   "metadata": {
    "_uuid": "d76374ae2bba0f460742d5078b66a42dc5ad64d9",
    "scrolled": true
   },
   "outputs": [],
   "source": [
    "df = df.fillna(' ')\n",
    "df.loc[:, 'bbox_pred'] = df.loc[:, 'bbox_pred'].map(lambda x: x.split(' '))"
   ]
  },
  {
   "cell_type": "code",
   "execution_count": null,
   "metadata": {
    "_uuid": "74809b3a3d585bd90e0465bc56c3b3bff567158f"
   },
   "outputs": [],
   "source": [
    "df.head(10)"
   ]
  },
  {
   "cell_type": "markdown",
   "metadata": {
    "_uuid": "f9b14d931f0edc8b93fb0c58b85a898ca03bd1ff"
   },
   "source": [
    "     (5) bbox_pred의 score 부분만 얻어서 bbox_scores라는 열을 만든다."
   ]
  },
  {
   "cell_type": "code",
   "execution_count": null,
   "metadata": {
    "_uuid": "830df872fcd1dc6230958452cd4e9b23fa734431"
   },
   "outputs": [],
   "source": [
    "def parse_scores(x):\n",
    "    if len(x)!=2: # 값의 길이가 '2'가 아니면, 즉 [,]가 아니면!\n",
    "        scores = [x[k] for k in range(0,len(x),5)]\n",
    "        for score in range(len(scores)):\n",
    "            scores[score] = float(scores[score])\n",
    "        return np.asarray(scores)"
   ]
  },
  {
   "cell_type": "code",
   "execution_count": null,
   "metadata": {
    "_uuid": "69c0e8a7320c70f490db69beb869a19a936aaa4a"
   },
   "outputs": [],
   "source": [
    "df.loc[:, 'bbox_scores'] = df.loc[:, 'bbox_pred'].map(parse_scores)"
   ]
  },
  {
   "cell_type": "code",
   "execution_count": null,
   "metadata": {
    "_uuid": "8fe065b483a127815630bb4643f4ff573eb6d077"
   },
   "outputs": [],
   "source": [
    "df.head(10)"
   ]
  },
  {
   "cell_type": "markdown",
   "metadata": {
    "_uuid": "8609a9ee8ba841f7a99beb85a18a8c0409e2b57f"
   },
   "source": [
    "     (6) bbox_pred 대신 bbox_preds라는 열을 만들어서, score 부분을 뺀 좌표 값들만 넣는다. bbox_pred는 지운다."
   ]
  },
  {
   "cell_type": "code",
   "execution_count": null,
   "metadata": {
    "_uuid": "1987a0f45da7cc3dc7231909f9cc5ec89429638f"
   },
   "outputs": [],
   "source": [
    "def parse_bbox(x):\n",
    "    if len(x)!=2:\n",
    "        bbox = [int(x[k]) for k in range(0,len(x)) if k%5 != 0]\n",
    "        return np.asarray(bbox).reshape(int(len(bbox)/4),4)"
   ]
  },
  {
   "cell_type": "code",
   "execution_count": null,
   "metadata": {
    "_uuid": "13ab0d07d0faf95fd6afe015eac13afbde5bb2db"
   },
   "outputs": [],
   "source": [
    "df.loc[:, 'bbox_preds'] = df.loc[:, 'bbox_pred'].map(parse_bbox)"
   ]
  },
  {
   "cell_type": "code",
   "execution_count": null,
   "metadata": {
    "_uuid": "31e07d4f704af3a3e3b3a53cbda9f65b86891e80"
   },
   "outputs": [],
   "source": [
    "df = df.drop(['bbox_pred'], axis=1)"
   ]
  },
  {
   "cell_type": "code",
   "execution_count": null,
   "metadata": {
    "_uuid": "39e5eb8dc3dd75f6cc200fb132319df3b923bec7"
   },
   "outputs": [],
   "source": [
    "df.head(10)"
   ]
  },
  {
   "cell_type": "markdown",
   "metadata": {
    "_uuid": "3e348c6cba099087a9630c1b941d556f09c4d855"
   },
   "source": [
    "     (7) bbox_scores와 bbox_preds의 None 값을 빈 값으로 바꿔준다."
   ]
  },
  {
   "cell_type": "code",
   "execution_count": null,
   "metadata": {
    "_uuid": "08572b5470a1eb49fb28b4ff3b5804699f31b608"
   },
   "outputs": [],
   "source": [
    "df.loc[df['bbox_scores'].isnull(),['bbox_scores']] = df.loc[df['bbox_scores'].isnull(),'bbox_scores'].apply(lambda x: np.asarray([]))"
   ]
  },
  {
   "cell_type": "code",
   "execution_count": null,
   "metadata": {
    "_uuid": "2d22ea69b2571c72ea689bcc4b2a0d3be7130a66"
   },
   "outputs": [],
   "source": [
    "df.loc[df['bbox_preds'].isnull(),['bbox_preds']] = df.loc[df['bbox_preds'].isnull(),'bbox_preds'].apply(lambda x: np.asarray([]))"
   ]
  },
  {
   "cell_type": "code",
   "execution_count": null,
   "metadata": {
    "_uuid": "0bc290233e93fc067f7817506711e8e3d63829fb"
   },
   "outputs": [],
   "source": [
    "df.head(10)"
   ]
  },
  {
   "cell_type": "markdown",
   "metadata": {
    "_uuid": "f2c84b45451e84fb6b0886e31db66468138aacbf"
   },
   "source": [
    "     (8) nan 값들을 빈 값으로 바꾸고, 여러 값들을 map를 구하기 쉽게 파싱해준다."
   ]
  },
  {
   "cell_type": "code",
   "execution_count": null,
   "metadata": {
    "_uuid": "1452157034c4ebed639be8b3e78ad8e62cabf080"
   },
   "outputs": [],
   "source": [
    "def parse_target_str(x):\n",
    "    if x[0] != 'nan':\n",
    "        bbox = np.asarray([int(float(x[k])) for k in range(0,len(x))])\n",
    "        return bbox.reshape(int(len(bbox)/4),4)"
   ]
  },
  {
   "cell_type": "code",
   "execution_count": null,
   "metadata": {
    "_uuid": "94b8b7bca1ee10a8d1b6860ea725075018f6bde0"
   },
   "outputs": [],
   "source": [
    "df.loc[:,'bbox_target'] = df.loc[:,'bbox_target'].map(parse_target_str)"
   ]
  },
  {
   "cell_type": "code",
   "execution_count": null,
   "metadata": {
    "_uuid": "34f9799b0e2095fd7db7b21ab960ba912df718cf"
   },
   "outputs": [],
   "source": [
    "df.loc[df['bbox_target'].isnull(),['bbox_target']] = df.loc[df['bbox_target'].isnull(),'bbox_target'].apply(lambda x: np.asarray([]))"
   ]
  },
  {
   "cell_type": "code",
   "execution_count": null,
   "metadata": {
    "_uuid": "d8aa8a3a9d66986052af5fb870aa27285f8d882b"
   },
   "outputs": [],
   "source": [
    "df.head(10)"
   ]
  },
  {
   "cell_type": "markdown",
   "metadata": {
    "_uuid": "de10c05715f70d9cdfde806973c3eab514a4de30"
   },
   "source": [
    "2. mAP"
   ]
  },
  {
   "cell_type": "markdown",
   "metadata": {
    "_uuid": "524f16c36e4abaf8ae0b05264c61def8b9a55292"
   },
   "source": [
    "reference1: https://www.kaggle.com/chenyc15/mean-average-precision-metric and edited herein\n",
    "reference2: https://www.kaggle.com/cchadha/mean-average-precision-iou-on-cnn-oof-preds\n",
    "\n",
    "RSNA Competition은 IoU 임계치에 따른 mAP를 구해서 submission.csv 평가한다. IoU는 두 bounding box가 일치하는 정도를 나타내며 IoU 각 임계치(0.4 to 0.75까지 0.05 단위, (0.4, 0.45, 0.5, 0.55, 0.6, 0.65, 0.7, 0.75))에서 mAP를 구한다.\n",
    "\n",
    "1.  Bbox, image, model과 AP, mAP 관계\n",
    " - bounding box 1개는 AP 1개 출력\n",
    " - image 1개는 mAP 1개 출력\n",
    " - 모든 사진의 mAP평균을 낸 값으로 모델의 mAP를 계산\n",
    "\n",
    "2. AP계산방법\n",
    " - ground truth와 prediction box 둘 다 값이 없으면 그냥 패스\n",
    " -  ground truth와 prediction box 둘 중 하나가 0이면 그 image의 FP가 0이므로 AP도 0이므로 return 0\n",
    " - ground truth와 prediction box 모두 양수이면 prediction box들을 score에 대해 내림차순으로 정렬한 후 차례대로 truth box랑 매칭해서 tp,tn,fp 구함.\n",
    "  * (iou> threshold) ->  TP(정탐)\n",
    "  * (iou< threshold) ->  FP(미탐)\n",
    "  * (예측한 bbox - 찾은 bbox) -> FN(오탐)\n",
    "  * 이후, 각 threshold에서 (tp/tp+fp+tn) 구한 후 thresholds 개수로 나눠서 AP 구한다.\n",
    "\n",
    "3. 기타\n",
    " - iou()는 두개의 바운딩 박스를 비교해서 일치정도를 계산하는 함수이다.\n",
    " - map_iou()는 RSNA Validation 방식을 코드로 구현한 함수이다."
   ]
  },
  {
   "cell_type": "code",
   "execution_count": null,
   "metadata": {
    "_uuid": "bd131d580ae32eb2dd2c74116401869146b435b5"
   },
   "outputs": [],
   "source": [
    "# helper function to calculate IoU\n",
    "def iou(box1, box2):\n",
    "    box1 = box1.astype(np.float)\n",
    "    box2 = box2.astype(np.float)\n",
    "    x11, y11, w1, h1 = box1\n",
    "    x21, y21, w2, h2 = box2\n",
    "    assert w1 * h1 > 0\n",
    "    assert w2 * h2 > 0\n",
    "    x12, y12 = x11 + w1, y11 + h1\n",
    "    x22, y22 = x21 + w2, y21 + h2\n",
    "\n",
    "    area1, area2 = w1 * h1, w2 * h2\n",
    "    xi1, yi1, xi2, yi2 = max([x11, x21]), max([y11, y21]), min([x12, x22]), min([y12, y22])\n",
    "    \n",
    "    if xi2 <= xi1 or yi2 <= yi1:\n",
    "        return 0\n",
    "    else:\n",
    "        intersect = (xi2-xi1) * (yi2-yi1)\n",
    "        union = area1 + area2 - intersect\n",
    "        return intersect / union"
   ]
  },
  {
   "cell_type": "code",
   "execution_count": null,
   "metadata": {
    "_uuid": "757a0b986b7788cf7b6e449e27effe459f4ed86d"
   },
   "outputs": [],
   "source": [
    "#thresholds 값은 폐렴을 진단할때 validation의 기본 thresholds 값을 이용했다.\n",
    "# 한 사진에 대해서 mAP 값을 구하는 함수이다.\n",
    "def map_iou(boxes_true, boxes_pred, scores, thresholds = [0.4, 0.45, 0.5, 0.55, 0.6, 0.65, 0.7, 0.75]):\n",
    "    \"\"\"\n",
    "    Mean average precision at differnet intersection over union (IoU) threshold\n",
    "    \n",
    "    input:\n",
    "        boxes_true: Mx4 numpy array of ground true bounding boxes of one image. \n",
    "                    bbox format: (x1, y1, w, h)\n",
    "                    ground truth BBox 배열 or 배열들 (x, y, w, h) \n",
    "        boxes_pred: Nx4 numpy array of predicted bounding boxes of one image. \n",
    "                    bbox format: (x1, y1, w, h)\n",
    "                    예측한 bbox 배열 or 배열들 (x, y, w, h)\n",
    "        scores:     length N numpy array of scores associated with predicted bboxes\n",
    "        thresholds: IoU shresholds to evaluate mean average precision on\n",
    "    output: \n",
    "        map: mean average precision of the image\n",
    "    \"\"\"\n",
    "    \n",
    "    # According to the introduction, images with no ground truth bboxes will not be \n",
    "    # included in the map score unless there is a false positive detection (?)\n",
    "        \n",
    "    # return None if both are empty, don't count the image in final evaluation (?)\n",
    "    \"\"\"\n",
    "    모두 0이면 dont count\n",
    "    하나는 0이고 하나는 0이 아니면, TP가 0이므로 return 0을 한다.\n",
    "    둘 다 하나 이상의 값이 있으면 TP, FN, FP 계산이 필요하다.\n",
    "    \"\"\"\n",
    "    if len(boxes_true) == 0 and len(boxes_pred) == 0:     \n",
    "        return None\n",
    "    elif len(boxes_true) == 0 and len(boxes_pred) > 0:  \n",
    "        return 0\n",
    "    elif len(boxes_true) > 0 and len(boxes_pred) == 0:\n",
    "        return 0\n",
    "    elif len(boxes_true) > 0 and len(boxes_pred) > 0:\n",
    "        assert boxes_true.shape[1] == 4 or boxes_pred.shape[1] == 4, \"boxes should be 2D arrays with shape[1]=4\"\n",
    "        if len(boxes_pred):\n",
    "            assert len(scores) == len(boxes_pred), \"boxes_pred and scores should be same length\"\n",
    "            # sort boxes_pred by scores in decreasing order, bbox를 scores에 따른 내림차순 정렬 \n",
    "            boxes_pred = boxes_pred[np.argsort(scores)[::-1], :] \n",
    "\n",
    "        map_total = 0\n",
    "        map_threshold = []\n",
    "\n",
    "        # loop over thresholds\n",
    "        for t in thresholds:\n",
    "            matched_bt = set()\n",
    "            tp, fn = 0, 0\n",
    "            for i, bt in enumerate(boxes_true):\n",
    "                matched = False\n",
    "                for j, bp in enumerate(boxes_pred):\n",
    "                    miou = iou(bt, bp)\n",
    "                    if miou >= t and not matched and j not in matched_bt:\n",
    "                        matched = True # IoU가 t임계치를 넘었으므로 정탐\n",
    "                        tp += 1 # bt is matched for the first time, count as TP\n",
    "                        matched_bt.add(j)\n",
    "                if not matched: # 모든 bbox t임계치를 넘지 못했으므로 미탐\n",
    "                    fn += 1 # bt has no match, count as FN\n",
    "                    \n",
    "            # 예측한 bbox 중에 정탐한 bbox를 제외하면 나머지 bbox는 오탐으로 간주\n",
    "            fp = len(boxes_pred) - len(matched_bt) # FP is the bp that not matched to any bt\n",
    "            m = tp / (tp + fn + fp)\n",
    "            map_threshold.append(m) # AP per each thresholds\n",
    "            map_total += m # 모든 임계치에 대해서 m 값을 계산\n",
    "\n",
    "        map_total=map_total / len(thresholds)\n",
    "        map_threshold.append(map_total) #kaggle validation function\n",
    "    \n",
    "    return map_threshold"
   ]
  },
  {
   "cell_type": "code",
   "execution_count": null,
   "metadata": {
    "_uuid": "3284dc1b54ab23c299526c72e455af1967e4f388"
   },
   "outputs": [],
   "source": [
    "#상위 10개만 테스트\n",
    "for row in range(10):\n",
    "    print(map_iou(df['bbox_target'][row], df['bbox_preds'][row], df['bbox_scores'][row]))"
   ]
  },
  {
   "cell_type": "code",
   "execution_count": null,
   "metadata": {
    "_uuid": "acba64d66c986f8329eb3b92c42cca98ab95cde0"
   },
   "outputs": [],
   "source": [
    "#non이 아닐 때만, map_iou 계산\n",
    "map_scores = [x for x in [map_iou(df['bbox_target'][row], df['bbox_preds'][row], df['bbox_scores'][row]) for row in range(len(df))] if x is not None]"
   ]
  },
  {
   "cell_type": "code",
   "execution_count": null,
   "metadata": {
    "_uuid": "efb67073684e9f39ab3ec611731c151b4cc79cb2"
   },
   "outputs": [],
   "source": [
    "#map 값\n",
    "np.mean(map_scores)"
   ]
  },
  {
   "cell_type": "code",
   "execution_count": null,
   "metadata": {},
   "outputs": [],
   "source": [
    "# if mAP is 0, then change the 0 to [0, 0, 0, 0, 0, 0, 0, 0, 0]\n",
    "for i in range(len(map_scores)):\n",
    "    if map_scores[i] == 0 :\n",
    "        del map_scores[i]\n",
    "        map_scores.insert(i,[0, 0, 0, 0, 0, 0, 0, 0, 0])"
   ]
  },
  {
   "cell_type": "code",
   "execution_count": null,
   "metadata": {},
   "outputs": [],
   "source": [
    "# reverse list, [i][j] -> [j][i]\n",
    "new_list = list(map(list, zip(*map_scores)))"
   ]
  },
  {
   "cell_type": "code",
   "execution_count": null,
   "metadata": {},
   "outputs": [],
   "source": [
    "thres_list = []\n",
    "for i in range(len(new_list)):\n",
    "    thres_list.append(np.mean(new_list[i])) # AP per thresholds"
   ]
  },
  {
   "cell_type": "code",
   "execution_count": null,
   "metadata": {},
   "outputs": [],
   "source": [
    "thres_list"
   ]
  },
  {
   "cell_type": "code",
   "execution_count": null,
   "metadata": {},
   "outputs": [],
   "source": [
    "def AP_N(thres, thres_list):\n",
    "    thres_sum = []\n",
    "    thresholds = [0.4, 0.45, 0.5, 0.55, 0.6, 0.65, 0.7, 0.75]\n",
    "    index = thresholds.index(thres)\n",
    "    for i in range(index, len(thresholds)):\n",
    "        thres_sum.append(thres_list[i])\n",
    "    \n",
    "    return np.mean(thres_sum)           # mAP    "
   ]
  },
  {
   "cell_type": "code",
   "execution_count": null,
   "metadata": {},
   "outputs": [],
   "source": [
    "thresholds = [0.4, 0.45, 0.5, 0.55, 0.6, 0.65, 0.7, 0.75]\n",
    "\n",
    "for i in range(len(thresholds)):\n",
    "    print(AP_N(thresholds[i], thres_list))"
   ]
  }
 ],
 "metadata": {
  "kernelspec": {
   "display_name": "Python 2",
   "language": "python",
   "name": "python2"
  },
  "language_info": {
   "codemirror_mode": {
    "name": "ipython",
    "version": 2
   },
   "file_extension": ".py",
   "mimetype": "text/x-python",
   "name": "python",
   "nbconvert_exporter": "python",
   "pygments_lexer": "ipython2",
   "version": "2.7.12"
  }
 },
 "nbformat": 4,
 "nbformat_minor": 1
}
